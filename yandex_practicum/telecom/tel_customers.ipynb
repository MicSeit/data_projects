{
 "cells": [
  {
   "cell_type": "markdown",
   "source": [
    "# Table of contents\r\n",
    "1. [Data preprocessing](#paragraph1)\r\n",
    "    1. [Open the data file and study the general information](#subparagraph1)\r\n",
    "    2. [Checking for data types](#subparagraph2)\r\n",
    "    3. [Checking for missing values](#subparagraph3)\r\n",
    "    4. [Checking for duplicates](#subparagraph4)\r\n",
    "    5. [Conclusion](#subparagraph5)\r\n",
    "2. [Exploratory Data Analysis](#paragraph2)\r\n",
    "    1. [How many companies use our product every day, week, and month?](#subparagraph6)\r\n",
    "    2. [What is the length of each session?](#subparagraph7)\r\n",
    "    3. [Calculating revenue from calls](#subparagraph8)\r\n",
    "    4. [Conclusion](#subparagraph9)\r\n",
    "3. [Testing hypotheses](#paragraph3)\r\n",
    "    1. [Conclusion](#subparagraph10)\r\n",
    "4. [Prediction models](#paragraph4)\r\n",
    "    1. [Conclusion](#subparagraph11)    \r\n",
    "5. [Overall Conclusion](#paragraph5)"
   ],
   "metadata": {}
  },
  {
   "cell_type": "markdown",
   "source": [
    "# Load, study and preprocess the data <a name=\"paragraph1\"></a>\r\n",
    "\r\n",
    "We import all our tools and the data, we check the data types and select the necessary columns to continue our analysis.\r\n",
    "\r\n",
    "## Open the data files and study the general information <a name=\"subparagraph1\"></a>"
   ],
   "metadata": {}
  },
  {
   "cell_type": "code",
   "execution_count": 1,
   "source": [
    "#!pip install missingno --quiet\r\n",
    "\r\n",
    "import pandas as pd\r\n",
    "import numpy as np\r\n",
    "import matplotlib.pyplot as plt\r\n",
    "import missingno as msno\r\n",
    "import datetime as dt\r\n",
    "\r\n",
    "from scipy import stats as st\r\n",
    "\r\n",
    "import warnings\r\n",
    "warnings.filterwarnings('ignore')\r\n",
    "\r\n",
    "from sklearn.linear_model import LogisticRegression\r\n",
    "from sklearn.preprocessing import StandardScaler\r\n",
    "from sklearn.model_selection import train_test_split\r\n",
    "from sklearn.ensemble import RandomForestClassifier, GradientBoostingClassifier\r\n",
    "from sklearn.metrics import accuracy_score, precision_score, recall_score, f1_score, roc_auc_score, silhouette_score, roc_curve\r\n",
    "%matplotlib inline"
   ],
   "outputs": [
    {
     "output_type": "stream",
     "name": "stderr",
     "text": [
      "/opt/conda/lib/python3.7/site-packages/statsmodels/tools/_testing.py:19: FutureWarning: pandas.util.testing is deprecated. Use the functions in the public API at pandas.testing instead.\n",
      "  import pandas.util.testing as tm\n"
     ]
    }
   ],
   "metadata": {}
  },
  {
   "cell_type": "code",
   "execution_count": 2,
   "source": [
    "# Import our dataset (there are two Excel files, description in README file).\r\n",
    "\r\n",
    "LOCAL_PATH_1 = '~path/telecom_clients_us.csv '\r\n",
    "PLATFORM_PATH_1 = '~path/telecom_clients_us.csv'\r\n",
    "\r\n",
    "LOCAL_PATH_2 = '~path/telecom_dataset_us.csv '\r\n",
    "PLATFORM_PATH_2 = '~path/telecom_dataset_us.csv'\r\n",
    "\r\n",
    "try: \r\n",
    "    clients = pd.read_csv(LOCAL_PATH_1)\r\n",
    "    data = pd.read_csv(LOCAL_PATH_2)\r\n",
    "except:\r\n",
    "    clients = pd.read_csv(PLATFORM_PATH_1)\r\n",
    "    data = pd.read_csv(PLATFORM_PATH_2)"
   ],
   "outputs": [],
   "metadata": {}
  },
  {
   "cell_type": "code",
   "execution_count": 3,
   "source": [
    "clients.head()"
   ],
   "outputs": [
    {
     "output_type": "execute_result",
     "data": {
      "text/html": [
       "<div>\n",
       "<style scoped>\n",
       "    .dataframe tbody tr th:only-of-type {\n",
       "        vertical-align: middle;\n",
       "    }\n",
       "\n",
       "    .dataframe tbody tr th {\n",
       "        vertical-align: top;\n",
       "    }\n",
       "\n",
       "    .dataframe thead th {\n",
       "        text-align: right;\n",
       "    }\n",
       "</style>\n",
       "<table border=\"1\" class=\"dataframe\">\n",
       "  <thead>\n",
       "    <tr style=\"text-align: right;\">\n",
       "      <th></th>\n",
       "      <th>user_id</th>\n",
       "      <th>tariff_plan</th>\n",
       "      <th>date_start</th>\n",
       "    </tr>\n",
       "  </thead>\n",
       "  <tbody>\n",
       "    <tr>\n",
       "      <th>0</th>\n",
       "      <td>166713</td>\n",
       "      <td>A</td>\n",
       "      <td>2019-08-15</td>\n",
       "    </tr>\n",
       "    <tr>\n",
       "      <th>1</th>\n",
       "      <td>166901</td>\n",
       "      <td>A</td>\n",
       "      <td>2019-08-23</td>\n",
       "    </tr>\n",
       "    <tr>\n",
       "      <th>2</th>\n",
       "      <td>168527</td>\n",
       "      <td>A</td>\n",
       "      <td>2019-10-29</td>\n",
       "    </tr>\n",
       "    <tr>\n",
       "      <th>3</th>\n",
       "      <td>167097</td>\n",
       "      <td>A</td>\n",
       "      <td>2019-09-01</td>\n",
       "    </tr>\n",
       "    <tr>\n",
       "      <th>4</th>\n",
       "      <td>168193</td>\n",
       "      <td>A</td>\n",
       "      <td>2019-10-16</td>\n",
       "    </tr>\n",
       "  </tbody>\n",
       "</table>\n",
       "</div>"
      ],
      "text/plain": [
       "   user_id tariff_plan  date_start\n",
       "0   166713           A  2019-08-15\n",
       "1   166901           A  2019-08-23\n",
       "2   168527           A  2019-10-29\n",
       "3   167097           A  2019-09-01\n",
       "4   168193           A  2019-10-16"
      ]
     },
     "metadata": {},
     "execution_count": 3
    }
   ],
   "metadata": {}
  },
  {
   "cell_type": "code",
   "execution_count": 4,
   "source": [
    "data.head()"
   ],
   "outputs": [
    {
     "output_type": "execute_result",
     "data": {
      "text/html": [
       "<div>\n",
       "<style scoped>\n",
       "    .dataframe tbody tr th:only-of-type {\n",
       "        vertical-align: middle;\n",
       "    }\n",
       "\n",
       "    .dataframe tbody tr th {\n",
       "        vertical-align: top;\n",
       "    }\n",
       "\n",
       "    .dataframe thead th {\n",
       "        text-align: right;\n",
       "    }\n",
       "</style>\n",
       "<table border=\"1\" class=\"dataframe\">\n",
       "  <thead>\n",
       "    <tr style=\"text-align: right;\">\n",
       "      <th></th>\n",
       "      <th>user_id</th>\n",
       "      <th>date</th>\n",
       "      <th>direction</th>\n",
       "      <th>internal</th>\n",
       "      <th>operator_id</th>\n",
       "      <th>is_missed_call</th>\n",
       "      <th>calls_count</th>\n",
       "      <th>call_duration</th>\n",
       "      <th>total_call_duration</th>\n",
       "    </tr>\n",
       "  </thead>\n",
       "  <tbody>\n",
       "    <tr>\n",
       "      <th>0</th>\n",
       "      <td>166377</td>\n",
       "      <td>2019-08-04 00:00:00+03:00</td>\n",
       "      <td>in</td>\n",
       "      <td>False</td>\n",
       "      <td>NaN</td>\n",
       "      <td>True</td>\n",
       "      <td>2</td>\n",
       "      <td>0</td>\n",
       "      <td>4</td>\n",
       "    </tr>\n",
       "    <tr>\n",
       "      <th>1</th>\n",
       "      <td>166377</td>\n",
       "      <td>2019-08-05 00:00:00+03:00</td>\n",
       "      <td>out</td>\n",
       "      <td>True</td>\n",
       "      <td>880022.0</td>\n",
       "      <td>True</td>\n",
       "      <td>3</td>\n",
       "      <td>0</td>\n",
       "      <td>5</td>\n",
       "    </tr>\n",
       "    <tr>\n",
       "      <th>2</th>\n",
       "      <td>166377</td>\n",
       "      <td>2019-08-05 00:00:00+03:00</td>\n",
       "      <td>out</td>\n",
       "      <td>True</td>\n",
       "      <td>880020.0</td>\n",
       "      <td>True</td>\n",
       "      <td>1</td>\n",
       "      <td>0</td>\n",
       "      <td>1</td>\n",
       "    </tr>\n",
       "    <tr>\n",
       "      <th>3</th>\n",
       "      <td>166377</td>\n",
       "      <td>2019-08-05 00:00:00+03:00</td>\n",
       "      <td>out</td>\n",
       "      <td>True</td>\n",
       "      <td>880020.0</td>\n",
       "      <td>False</td>\n",
       "      <td>1</td>\n",
       "      <td>10</td>\n",
       "      <td>18</td>\n",
       "    </tr>\n",
       "    <tr>\n",
       "      <th>4</th>\n",
       "      <td>166377</td>\n",
       "      <td>2019-08-05 00:00:00+03:00</td>\n",
       "      <td>out</td>\n",
       "      <td>False</td>\n",
       "      <td>880022.0</td>\n",
       "      <td>True</td>\n",
       "      <td>3</td>\n",
       "      <td>0</td>\n",
       "      <td>25</td>\n",
       "    </tr>\n",
       "  </tbody>\n",
       "</table>\n",
       "</div>"
      ],
      "text/plain": [
       "   user_id                       date direction internal  operator_id  \\\n",
       "0   166377  2019-08-04 00:00:00+03:00        in    False          NaN   \n",
       "1   166377  2019-08-05 00:00:00+03:00       out     True     880022.0   \n",
       "2   166377  2019-08-05 00:00:00+03:00       out     True     880020.0   \n",
       "3   166377  2019-08-05 00:00:00+03:00       out     True     880020.0   \n",
       "4   166377  2019-08-05 00:00:00+03:00       out    False     880022.0   \n",
       "\n",
       "   is_missed_call  calls_count  call_duration  total_call_duration  \n",
       "0            True            2              0                    4  \n",
       "1            True            3              0                    5  \n",
       "2            True            1              0                    1  \n",
       "3           False            1             10                   18  \n",
       "4            True            3              0                   25  "
      ]
     },
     "metadata": {},
     "execution_count": 4
    }
   ],
   "metadata": {}
  },
  {
   "cell_type": "code",
   "execution_count": 5,
   "source": [
    "clients.describe()"
   ],
   "outputs": [
    {
     "output_type": "execute_result",
     "data": {
      "text/html": [
       "<div>\n",
       "<style scoped>\n",
       "    .dataframe tbody tr th:only-of-type {\n",
       "        vertical-align: middle;\n",
       "    }\n",
       "\n",
       "    .dataframe tbody tr th {\n",
       "        vertical-align: top;\n",
       "    }\n",
       "\n",
       "    .dataframe thead th {\n",
       "        text-align: right;\n",
       "    }\n",
       "</style>\n",
       "<table border=\"1\" class=\"dataframe\">\n",
       "  <thead>\n",
       "    <tr style=\"text-align: right;\">\n",
       "      <th></th>\n",
       "      <th>user_id</th>\n",
       "    </tr>\n",
       "  </thead>\n",
       "  <tbody>\n",
       "    <tr>\n",
       "      <th>count</th>\n",
       "      <td>732.000000</td>\n",
       "    </tr>\n",
       "    <tr>\n",
       "      <th>mean</th>\n",
       "      <td>167431.927596</td>\n",
       "    </tr>\n",
       "    <tr>\n",
       "      <th>std</th>\n",
       "      <td>633.810383</td>\n",
       "    </tr>\n",
       "    <tr>\n",
       "      <th>min</th>\n",
       "      <td>166373.000000</td>\n",
       "    </tr>\n",
       "    <tr>\n",
       "      <th>25%</th>\n",
       "      <td>166900.750000</td>\n",
       "    </tr>\n",
       "    <tr>\n",
       "      <th>50%</th>\n",
       "      <td>167432.000000</td>\n",
       "    </tr>\n",
       "    <tr>\n",
       "      <th>75%</th>\n",
       "      <td>167973.000000</td>\n",
       "    </tr>\n",
       "    <tr>\n",
       "      <th>max</th>\n",
       "      <td>168606.000000</td>\n",
       "    </tr>\n",
       "  </tbody>\n",
       "</table>\n",
       "</div>"
      ],
      "text/plain": [
       "             user_id\n",
       "count     732.000000\n",
       "mean   167431.927596\n",
       "std       633.810383\n",
       "min    166373.000000\n",
       "25%    166900.750000\n",
       "50%    167432.000000\n",
       "75%    167973.000000\n",
       "max    168606.000000"
      ]
     },
     "metadata": {},
     "execution_count": 5
    }
   ],
   "metadata": {}
  },
  {
   "cell_type": "code",
   "execution_count": 6,
   "source": [
    "data.describe()"
   ],
   "outputs": [
    {
     "output_type": "execute_result",
     "data": {
      "text/html": [
       "<div>\n",
       "<style scoped>\n",
       "    .dataframe tbody tr th:only-of-type {\n",
       "        vertical-align: middle;\n",
       "    }\n",
       "\n",
       "    .dataframe tbody tr th {\n",
       "        vertical-align: top;\n",
       "    }\n",
       "\n",
       "    .dataframe thead th {\n",
       "        text-align: right;\n",
       "    }\n",
       "</style>\n",
       "<table border=\"1\" class=\"dataframe\">\n",
       "  <thead>\n",
       "    <tr style=\"text-align: right;\">\n",
       "      <th></th>\n",
       "      <th>user_id</th>\n",
       "      <th>operator_id</th>\n",
       "      <th>calls_count</th>\n",
       "      <th>call_duration</th>\n",
       "      <th>total_call_duration</th>\n",
       "    </tr>\n",
       "  </thead>\n",
       "  <tbody>\n",
       "    <tr>\n",
       "      <th>count</th>\n",
       "      <td>53902.000000</td>\n",
       "      <td>45730.000000</td>\n",
       "      <td>53902.000000</td>\n",
       "      <td>53902.000000</td>\n",
       "      <td>53902.000000</td>\n",
       "    </tr>\n",
       "    <tr>\n",
       "      <th>mean</th>\n",
       "      <td>167295.344477</td>\n",
       "      <td>916535.993002</td>\n",
       "      <td>16.451245</td>\n",
       "      <td>866.684427</td>\n",
       "      <td>1157.133297</td>\n",
       "    </tr>\n",
       "    <tr>\n",
       "      <th>std</th>\n",
       "      <td>598.883775</td>\n",
       "      <td>21254.123136</td>\n",
       "      <td>62.917170</td>\n",
       "      <td>3731.791202</td>\n",
       "      <td>4403.468763</td>\n",
       "    </tr>\n",
       "    <tr>\n",
       "      <th>min</th>\n",
       "      <td>166377.000000</td>\n",
       "      <td>879896.000000</td>\n",
       "      <td>1.000000</td>\n",
       "      <td>0.000000</td>\n",
       "      <td>0.000000</td>\n",
       "    </tr>\n",
       "    <tr>\n",
       "      <th>25%</th>\n",
       "      <td>166782.000000</td>\n",
       "      <td>900788.000000</td>\n",
       "      <td>1.000000</td>\n",
       "      <td>0.000000</td>\n",
       "      <td>47.000000</td>\n",
       "    </tr>\n",
       "    <tr>\n",
       "      <th>50%</th>\n",
       "      <td>167162.000000</td>\n",
       "      <td>913938.000000</td>\n",
       "      <td>4.000000</td>\n",
       "      <td>38.000000</td>\n",
       "      <td>210.000000</td>\n",
       "    </tr>\n",
       "    <tr>\n",
       "      <th>75%</th>\n",
       "      <td>167819.000000</td>\n",
       "      <td>937708.000000</td>\n",
       "      <td>12.000000</td>\n",
       "      <td>572.000000</td>\n",
       "      <td>902.000000</td>\n",
       "    </tr>\n",
       "    <tr>\n",
       "      <th>max</th>\n",
       "      <td>168606.000000</td>\n",
       "      <td>973286.000000</td>\n",
       "      <td>4817.000000</td>\n",
       "      <td>144395.000000</td>\n",
       "      <td>166155.000000</td>\n",
       "    </tr>\n",
       "  </tbody>\n",
       "</table>\n",
       "</div>"
      ],
      "text/plain": [
       "             user_id    operator_id   calls_count  call_duration  \\\n",
       "count   53902.000000   45730.000000  53902.000000   53902.000000   \n",
       "mean   167295.344477  916535.993002     16.451245     866.684427   \n",
       "std       598.883775   21254.123136     62.917170    3731.791202   \n",
       "min    166377.000000  879896.000000      1.000000       0.000000   \n",
       "25%    166782.000000  900788.000000      1.000000       0.000000   \n",
       "50%    167162.000000  913938.000000      4.000000      38.000000   \n",
       "75%    167819.000000  937708.000000     12.000000     572.000000   \n",
       "max    168606.000000  973286.000000   4817.000000  144395.000000   \n",
       "\n",
       "       total_call_duration  \n",
       "count         53902.000000  \n",
       "mean           1157.133297  \n",
       "std            4403.468763  \n",
       "min               0.000000  \n",
       "25%              47.000000  \n",
       "50%             210.000000  \n",
       "75%             902.000000  \n",
       "max          166155.000000  "
      ]
     },
     "metadata": {},
     "execution_count": 6
    }
   ],
   "metadata": {}
  },
  {
   "cell_type": "markdown",
   "source": [
    "## Checking for data types <a name=\"subparagraph2\"></a>\r\n",
    "\r\n",
    "After we have a 1st sight of our data, we will change the type from some of the variables in order to save memory usage. First we will check the type and then we will change into what we consider a more appropriate one."
   ],
   "metadata": {}
  },
  {
   "cell_type": "code",
   "execution_count": 7,
   "source": [
    "data.info();\r\n",
    "print()\r\n",
    "clients.info()"
   ],
   "outputs": [
    {
     "output_type": "stream",
     "name": "stdout",
     "text": [
      "<class 'pandas.core.frame.DataFrame'>\n",
      "RangeIndex: 53902 entries, 0 to 53901\n",
      "Data columns (total 9 columns):\n",
      " #   Column               Non-Null Count  Dtype  \n",
      "---  ------               --------------  -----  \n",
      " 0   user_id              53902 non-null  int64  \n",
      " 1   date                 53902 non-null  object \n",
      " 2   direction            53902 non-null  object \n",
      " 3   internal             53785 non-null  object \n",
      " 4   operator_id          45730 non-null  float64\n",
      " 5   is_missed_call       53902 non-null  bool   \n",
      " 6   calls_count          53902 non-null  int64  \n",
      " 7   call_duration        53902 non-null  int64  \n",
      " 8   total_call_duration  53902 non-null  int64  \n",
      "dtypes: bool(1), float64(1), int64(4), object(3)\n",
      "memory usage: 3.3+ MB\n",
      "\n",
      "<class 'pandas.core.frame.DataFrame'>\n",
      "RangeIndex: 732 entries, 0 to 731\n",
      "Data columns (total 3 columns):\n",
      " #   Column       Non-Null Count  Dtype \n",
      "---  ------       --------------  ----- \n",
      " 0   user_id      732 non-null    int64 \n",
      " 1   tariff_plan  732 non-null    object\n",
      " 2   date_start   732 non-null    object\n",
      "dtypes: int64(1), object(2)\n",
      "memory usage: 17.3+ KB\n"
     ]
    }
   ],
   "metadata": {}
  },
  {
   "cell_type": "code",
   "execution_count": 8,
   "source": [
    "data = data.astype({\r\n",
    "    'user_id': 'int32',\r\n",
    "    'internal': 'bool',\r\n",
    "    'operator_id': 'float32',\r\n",
    "    'is_missed_call': 'bool',\r\n",
    "    'calls_count': 'int32',\r\n",
    "    'call_duration': 'int32',\r\n",
    "    'total_call_duration': 'int32'\r\n",
    "})\r\n",
    "\r\n",
    "data['date'] = pd.to_datetime(data['date'], format='%Y-%m-%d')"
   ],
   "outputs": [],
   "metadata": {}
  },
  {
   "cell_type": "code",
   "execution_count": 9,
   "source": [
    "clients = clients.astype({\r\n",
    "    'user_id': 'int32',\r\n",
    "    'tariff_plan': 'category',\r\n",
    "})\r\n",
    "\r\n",
    "clients['date_start'] = pd.to_datetime(clients['date_start'], format='%Y-%m-%d', utc=True)"
   ],
   "outputs": [],
   "metadata": {}
  },
  {
   "cell_type": "markdown",
   "source": [
    "We have changed our data types into more appropriate formats.\r\n",
    "\r\n",
    "## Checking for missing values <a name=\"subparagraph3\"></a>\r\n",
    "\r\n",
    "We will check our two datasets for missing values. We see that `operator_id` is the only variable with so many missing values."
   ],
   "metadata": {}
  },
  {
   "cell_type": "code",
   "execution_count": 10,
   "source": [
    "# Get a dataframe with the missing `operation_id` indeces\r\n",
    "operator_id_missing  = data[data['operator_id'].isnull()]\r\n",
    "print('The missing values for the operation_id column are {:.2%} of all our data.'.format(len(operator_id_missing)/len(data)))"
   ],
   "outputs": [
    {
     "output_type": "stream",
     "name": "stdout",
     "text": [
      "The missing values for the operation_id column are 15.16% of all our data.\n"
     ]
    }
   ],
   "metadata": {}
  },
  {
   "cell_type": "markdown",
   "source": [
    "We can see that the missing values of `operator_id` can be categorised as Missing at random (MAR). We charge our clients in the scope if the call is internal or not and if it is outgoing or not, but not by which opetator made the call. Additionally, the NaN values in `operator_id` could be anyone from the already registered operators. As the operator is already in our dataset, our clients have already paid for them. Thus, the column `operator_id` can be filled with any `operator_id` for each customer.\r\n",
    "\r\n",
    "So we will create the `filled` in order to be able to retain this information to calculate what each client pays for each operator."
   ],
   "metadata": {}
  },
  {
   "cell_type": "code",
   "execution_count": 11,
   "source": [
    "# Fill NaNs with the bfill method which uses the next valid observation to fill the gap\r\n",
    "data['filled_operator_id'] = data.groupby('user_id')['operator_id'].fillna(method='bfill')"
   ],
   "outputs": [],
   "metadata": {}
  },
  {
   "cell_type": "code",
   "execution_count": 12,
   "source": [
    "msno.matrix(data)\r\n",
    "\r\n",
    "# Drop the operator_id column\r\n",
    "data.drop('operator_id', axis=1, inplace=True)"
   ],
   "outputs": [
    {
     "output_type": "display_data",
     "data": {
      "image/png": "[encoded data removed]",
      "text/plain": [
       "<Figure size 1800x720 with 2 Axes>"
      ]
     },
     "metadata": {
      "needs_background": "light"
     }
    }
   ],
   "metadata": {}
  },
  {
   "cell_type": "code",
   "execution_count": 13,
   "source": [
    "msno.matrix(clients)"
   ],
   "outputs": [
    {
     "output_type": "execute_result",
     "data": {
      "text/plain": [
       "<matplotlib.axes._subplots.AxesSubplot at 0x7fe2f8cb4510>"
      ]
     },
     "metadata": {},
     "execution_count": 13
    },
    {
     "output_type": "display_data",
     "data": {
      "image/png": "[encoded data removed]",
      "text/plain": [
       "<Figure size 1800x720 with 2 Axes>"
      ]
     },
     "metadata": {
      "needs_background": "light"
     }
    }
   ],
   "metadata": {}
  },
  {
   "cell_type": "markdown",
   "source": [
    "The are no further missing data problems with our datasets.\r\n",
    "\r\n",
    "## Checking for duplicates <a name=\"subparagraph4\"></a>\r\n",
    "\r\n",
    "After we removed NaNs, we check for duplicates in our dataset. Duplicates can give a false sense of how much call time each customer uses and artifficially inflate our revenue."
   ],
   "metadata": {}
  },
  {
   "cell_type": "code",
   "execution_count": 14,
   "source": [
    "print('Number of duplicates for data dataset:', data.duplicated().sum())\r\n",
    "print('Number of duplicates for clients dataset:', clients.duplicated().sum())"
   ],
   "outputs": [
    {
     "output_type": "stream",
     "name": "stdout",
     "text": [
      "Number of duplicates for data dataset: 4676\n",
      "Number of duplicates for clients dataset: 0\n"
     ]
    }
   ],
   "metadata": {}
  },
  {
   "cell_type": "code",
   "execution_count": 15,
   "source": [
    "data = data.drop_duplicates()"
   ],
   "outputs": [],
   "metadata": {}
  },
  {
   "cell_type": "code",
   "execution_count": 16,
   "source": [
    "data.info();\r\n",
    "clients.info()"
   ],
   "outputs": [
    {
     "output_type": "stream",
     "name": "stdout",
     "text": [
      "<class 'pandas.core.frame.DataFrame'>\n",
      "Int64Index: 49226 entries, 0 to 53901\n",
      "Data columns (total 9 columns):\n",
      " #   Column               Non-Null Count  Dtype                                \n",
      "---  ------               --------------  -----                                \n",
      " 0   user_id              49226 non-null  int32                                \n",
      " 1   date                 49226 non-null  datetime64[ns, pytz.FixedOffset(180)]\n",
      " 2   direction            49226 non-null  object                               \n",
      " 3   internal             49226 non-null  bool                                 \n",
      " 4   is_missed_call       49226 non-null  bool                                 \n",
      " 5   calls_count          49226 non-null  int32                                \n",
      " 6   call_duration        49226 non-null  int32                                \n",
      " 7   total_call_duration  49226 non-null  int32                                \n",
      " 8   filled_operator_id   48789 non-null  float32                              \n",
      "dtypes: bool(2), datetime64[ns, pytz.FixedOffset(180)](1), float32(1), int32(4), object(1)\n",
      "memory usage: 2.2+ MB\n",
      "<class 'pandas.core.frame.DataFrame'>\n",
      "RangeIndex: 732 entries, 0 to 731\n",
      "Data columns (total 3 columns):\n",
      " #   Column       Non-Null Count  Dtype              \n",
      "---  ------       --------------  -----              \n",
      " 0   user_id      732 non-null    int32              \n",
      " 1   tariff_plan  732 non-null    category           \n",
      " 2   date_start   732 non-null    datetime64[ns, UTC]\n",
      "dtypes: category(1), datetime64[ns, UTC](1), int32(1)\n",
      "memory usage: 9.5 KB\n"
     ]
    }
   ],
   "metadata": {}
  },
  {
   "cell_type": "markdown",
   "source": [
    "## Conclusion <a name=\"subparagraph5\"></a>\r\n",
    "\r\n",
    "- We changed data to more appropriate types to reduce memory.\r\n",
    "- Data was 3.3+ MB and now is 1.6 MB, clients was 17.3+ KB and now is 9.5 KB.\r\n",
    "- We have no remaing missing values and duplicates in each dataset.\r\n",
    "- Missing values were MAR (Missing At Random) and therefore easy to fill (also missing values were way more than 5%-10% of data). As `operator_id` is essentially a category variable, we filled it's missing values with the mode.\r\n",
    "\r\n",
    "\r\n",
    "# Exploratory Data Analysis <a name=\"paragraph2\"></a>\r\n",
    "\r\n",
    "Now that the data is ready to be analyzed, we will add some variables that will help us with the research.\r\n",
    "\r\n",
    "## Daily, weekly and monthly usage of our product. <a name=\"subparagraph6\"></a>\r\n",
    "\r\n",
    "We will find how popular our service is. For doing this, we will create three additional columns in our `data` dataframe that captures (from `date`) when a company `user_id` used our service, each day, week and month. As a common practice, we will name this metrics as:\r\n",
    "\r\n",
    "    DAU — the number of daily active (unique) users\r\n",
    "    WAU — the number of weekly active users\r\n",
    "    MAU — the number of monthly active users"
   ],
   "metadata": {}
  },
  {
   "cell_type": "code",
   "execution_count": 17,
   "source": [
    "data.head()"
   ],
   "outputs": [
    {
     "output_type": "execute_result",
     "data": {
      "text/html": [
       "<div>\n",
       "<style scoped>\n",
       "    .dataframe tbody tr th:only-of-type {\n",
       "        vertical-align: middle;\n",
       "    }\n",
       "\n",
       "    .dataframe tbody tr th {\n",
       "        vertical-align: top;\n",
       "    }\n",
       "\n",
       "    .dataframe thead th {\n",
       "        text-align: right;\n",
       "    }\n",
       "</style>\n",
       "<table border=\"1\" class=\"dataframe\">\n",
       "  <thead>\n",
       "    <tr style=\"text-align: right;\">\n",
       "      <th></th>\n",
       "      <th>user_id</th>\n",
       "      <th>date</th>\n",
       "      <th>direction</th>\n",
       "      <th>internal</th>\n",
       "      <th>is_missed_call</th>\n",
       "      <th>calls_count</th>\n",
       "      <th>call_duration</th>\n",
       "      <th>total_call_duration</th>\n",
       "      <th>filled_operator_id</th>\n",
       "    </tr>\n",
       "  </thead>\n",
       "  <tbody>\n",
       "    <tr>\n",
       "      <th>0</th>\n",
       "      <td>166377</td>\n",
       "      <td>2019-08-04 00:00:00+03:00</td>\n",
       "      <td>in</td>\n",
       "      <td>False</td>\n",
       "      <td>True</td>\n",
       "      <td>2</td>\n",
       "      <td>0</td>\n",
       "      <td>4</td>\n",
       "      <td>880022.0</td>\n",
       "    </tr>\n",
       "    <tr>\n",
       "      <th>1</th>\n",
       "      <td>166377</td>\n",
       "      <td>2019-08-05 00:00:00+03:00</td>\n",
       "      <td>out</td>\n",
       "      <td>True</td>\n",
       "      <td>True</td>\n",
       "      <td>3</td>\n",
       "      <td>0</td>\n",
       "      <td>5</td>\n",
       "      <td>880022.0</td>\n",
       "    </tr>\n",
       "    <tr>\n",
       "      <th>2</th>\n",
       "      <td>166377</td>\n",
       "      <td>2019-08-05 00:00:00+03:00</td>\n",
       "      <td>out</td>\n",
       "      <td>True</td>\n",
       "      <td>True</td>\n",
       "      <td>1</td>\n",
       "      <td>0</td>\n",
       "      <td>1</td>\n",
       "      <td>880020.0</td>\n",
       "    </tr>\n",
       "    <tr>\n",
       "      <th>3</th>\n",
       "      <td>166377</td>\n",
       "      <td>2019-08-05 00:00:00+03:00</td>\n",
       "      <td>out</td>\n",
       "      <td>True</td>\n",
       "      <td>False</td>\n",
       "      <td>1</td>\n",
       "      <td>10</td>\n",
       "      <td>18</td>\n",
       "      <td>880020.0</td>\n",
       "    </tr>\n",
       "    <tr>\n",
       "      <th>4</th>\n",
       "      <td>166377</td>\n",
       "      <td>2019-08-05 00:00:00+03:00</td>\n",
       "      <td>out</td>\n",
       "      <td>False</td>\n",
       "      <td>True</td>\n",
       "      <td>3</td>\n",
       "      <td>0</td>\n",
       "      <td>25</td>\n",
       "      <td>880022.0</td>\n",
       "    </tr>\n",
       "  </tbody>\n",
       "</table>\n",
       "</div>"
      ],
      "text/plain": [
       "   user_id                      date direction  internal  is_missed_call  \\\n",
       "0   166377 2019-08-04 00:00:00+03:00        in     False            True   \n",
       "1   166377 2019-08-05 00:00:00+03:00       out      True            True   \n",
       "2   166377 2019-08-05 00:00:00+03:00       out      True            True   \n",
       "3   166377 2019-08-05 00:00:00+03:00       out      True           False   \n",
       "4   166377 2019-08-05 00:00:00+03:00       out     False            True   \n",
       "\n",
       "   calls_count  call_duration  total_call_duration  filled_operator_id  \n",
       "0            2              0                    4            880022.0  \n",
       "1            3              0                    5            880022.0  \n",
       "2            1              0                    1            880020.0  \n",
       "3            1             10                   18            880020.0  \n",
       "4            3              0                   25            880022.0  "
      ]
     },
     "metadata": {},
     "execution_count": 17
    }
   ],
   "metadata": {}
  },
  {
   "cell_type": "code",
   "execution_count": 18,
   "source": [
    "data['date_data'] = data['date'].dt.date\r\n",
    "data['week'] = data['date'].dt.week\r\n",
    "data['month'] = data['date'].dt.year.astype('str') + '-' + data['date'].dt.month.astype('str')"
   ],
   "outputs": [],
   "metadata": {}
  },
  {
   "cell_type": "code",
   "execution_count": 19,
   "source": [
    "dau = data.groupby('date_data').agg({'user_id': 'nunique'})\r\n",
    "wau = data.groupby('week').agg({'user_id': 'nunique'})\r\n",
    "mau = data.groupby('month').agg({'user_id': 'nunique'})\r\n",
    "\r\n",
    "print('On average, our product is used each day by {:.1f} users, each week by {:.1f} users and each month by {:.1f} users.'.format(dau.mean()[0],wau.mean()[0], mau.mean()[0]))"
   ],
   "outputs": [
    {
     "output_type": "stream",
     "name": "stdout",
     "text": [
      "On average, our product is used each day by 87.3 users, each week by 142.8 users and each month by 198.0 users.\n"
     ]
    }
   ],
   "metadata": {}
  },
  {
   "cell_type": "code",
   "execution_count": 20,
   "source": [
    "plt.figure(1, figsize=(21, 9))\r\n",
    "\r\n",
    "plt.subplot(211)\r\n",
    "plt.plot(dau, color='blue', linestyle='-', label='daily')\r\n",
    "plt.title('Number of Users for each Day')\r\n",
    "\r\n",
    "plt.subplot(212)\r\n",
    "plt.plot(wau, color='red', marker='o', label='weekly')\r\n",
    "plt.title('Number of Users for each Week')\r\n",
    "\r\n",
    "mau.plot(kind='bar', label = 'C')\r\n",
    "plt.title('Number of Users for each Month')\r\n",
    "    \r\n",
    "plt.show()"
   ],
   "outputs": [
    {
     "output_type": "display_data",
     "data": {
      "image/png": "[encoded data removed]",
      "text/plain": [
       "<Figure size 1512x648 with 2 Axes>"
      ]
     },
     "metadata": {
      "needs_background": "light"
     }
    },
    {
     "output_type": "display_data",
     "data": {
      "image/png": "[encoded data removed]",
      "text/plain": [
       "<Figure size 432x288 with 1 Axes>"
      ]
     },
     "metadata": {
      "needs_background": "light"
     }
    }
   ],
   "metadata": {}
  },
  {
   "cell_type": "markdown",
   "source": [
    "We can see an upward trend in the number of users from day 1. It seems, 90 days later, that the number is stabilized at around 175 daily and 270 monthly users.  \r\n",
    "\r\n",
    "## Length of each session <a name=\"subparagraph7\"></a>"
   ],
   "metadata": {}
  },
  {
   "cell_type": "code",
   "execution_count": 21,
   "source": [
    "data['total_call_duration'].hist(bins='scott')\r\n",
    "plt.xlim(0,25000)\r\n",
    "plt.title('Histogram of sessions\\'s length')\r\n",
    "plt.xlabel('Duration in Seconds')\r\n",
    "plt.ylabel('Number of Sessions')\r\n",
    "print(data['total_call_duration'].describe())"
   ],
   "outputs": [
    {
     "output_type": "stream",
     "name": "stdout",
     "text": [
      "count     49226.000000\n",
      "mean       1153.281823\n",
      "std        4443.456067\n",
      "min           0.000000\n",
      "25%          46.000000\n",
      "50%         207.000000\n",
      "75%         895.750000\n",
      "max      166155.000000\n",
      "Name: total_call_duration, dtype: float64\n"
     ]
    },
    {
     "output_type": "display_data",
     "data": {
      "image/png": "[encoded data removed]",
      "text/plain": [
       "<Figure size 432x288 with 1 Axes>"
      ]
     },
     "metadata": {
      "needs_background": "light"
     }
    }
   ],
   "metadata": {}
  },
  {
   "cell_type": "markdown",
   "source": [
    "We see that most sessions are below 7500 seconds something we confirm with the histogram. The average length of each session is 1153.28 seconds with a median of 207 seconds. As mean > median, high extreme values of duration distort our histogram. 75% percent of sessions are below 895.75 seconds, which is lower than a 1 std from the mean."
   ],
   "metadata": {}
  },
  {
   "cell_type": "markdown",
   "source": [
    "## 4C. Calculating revenue from calls <a name=\"subparagraph8\"></a>\n",
    "\n",
    "In order to analyze the revenue that generated by customers, we have to combine the customer data included in the `data` dataset with tarif plans in `clients` dataset. We will merge the two datasets on `user_id` as below. We will then split our dataset for each plan in order to calculate the total revenue from them."
   ],
   "metadata": {}
  },
  {
   "cell_type": "code",
   "execution_count": 22,
   "source": [
    "data.head()"
   ],
   "outputs": [
    {
     "output_type": "execute_result",
     "data": {
      "text/html": [
       "<div>\n",
       "<style scoped>\n",
       "    .dataframe tbody tr th:only-of-type {\n",
       "        vertical-align: middle;\n",
       "    }\n",
       "\n",
       "    .dataframe tbody tr th {\n",
       "        vertical-align: top;\n",
       "    }\n",
       "\n",
       "    .dataframe thead th {\n",
       "        text-align: right;\n",
       "    }\n",
       "</style>\n",
       "<table border=\"1\" class=\"dataframe\">\n",
       "  <thead>\n",
       "    <tr style=\"text-align: right;\">\n",
       "      <th></th>\n",
       "      <th>user_id</th>\n",
       "      <th>date</th>\n",
       "      <th>direction</th>\n",
       "      <th>internal</th>\n",
       "      <th>is_missed_call</th>\n",
       "      <th>calls_count</th>\n",
       "      <th>call_duration</th>\n",
       "      <th>total_call_duration</th>\n",
       "      <th>filled_operator_id</th>\n",
       "      <th>date_data</th>\n",
       "      <th>week</th>\n",
       "      <th>month</th>\n",
       "    </tr>\n",
       "  </thead>\n",
       "  <tbody>\n",
       "    <tr>\n",
       "      <th>0</th>\n",
       "      <td>166377</td>\n",
       "      <td>2019-08-04 00:00:00+03:00</td>\n",
       "      <td>in</td>\n",
       "      <td>False</td>\n",
       "      <td>True</td>\n",
       "      <td>2</td>\n",
       "      <td>0</td>\n",
       "      <td>4</td>\n",
       "      <td>880022.0</td>\n",
       "      <td>2019-08-04</td>\n",
       "      <td>31</td>\n",
       "      <td>2019-8</td>\n",
       "    </tr>\n",
       "    <tr>\n",
       "      <th>1</th>\n",
       "      <td>166377</td>\n",
       "      <td>2019-08-05 00:00:00+03:00</td>\n",
       "      <td>out</td>\n",
       "      <td>True</td>\n",
       "      <td>True</td>\n",
       "      <td>3</td>\n",
       "      <td>0</td>\n",
       "      <td>5</td>\n",
       "      <td>880022.0</td>\n",
       "      <td>2019-08-05</td>\n",
       "      <td>32</td>\n",
       "      <td>2019-8</td>\n",
       "    </tr>\n",
       "    <tr>\n",
       "      <th>2</th>\n",
       "      <td>166377</td>\n",
       "      <td>2019-08-05 00:00:00+03:00</td>\n",
       "      <td>out</td>\n",
       "      <td>True</td>\n",
       "      <td>True</td>\n",
       "      <td>1</td>\n",
       "      <td>0</td>\n",
       "      <td>1</td>\n",
       "      <td>880020.0</td>\n",
       "      <td>2019-08-05</td>\n",
       "      <td>32</td>\n",
       "      <td>2019-8</td>\n",
       "    </tr>\n",
       "    <tr>\n",
       "      <th>3</th>\n",
       "      <td>166377</td>\n",
       "      <td>2019-08-05 00:00:00+03:00</td>\n",
       "      <td>out</td>\n",
       "      <td>True</td>\n",
       "      <td>False</td>\n",
       "      <td>1</td>\n",
       "      <td>10</td>\n",
       "      <td>18</td>\n",
       "      <td>880020.0</td>\n",
       "      <td>2019-08-05</td>\n",
       "      <td>32</td>\n",
       "      <td>2019-8</td>\n",
       "    </tr>\n",
       "    <tr>\n",
       "      <th>4</th>\n",
       "      <td>166377</td>\n",
       "      <td>2019-08-05 00:00:00+03:00</td>\n",
       "      <td>out</td>\n",
       "      <td>False</td>\n",
       "      <td>True</td>\n",
       "      <td>3</td>\n",
       "      <td>0</td>\n",
       "      <td>25</td>\n",
       "      <td>880022.0</td>\n",
       "      <td>2019-08-05</td>\n",
       "      <td>32</td>\n",
       "      <td>2019-8</td>\n",
       "    </tr>\n",
       "  </tbody>\n",
       "</table>\n",
       "</div>"
      ],
      "text/plain": [
       "   user_id                      date direction  internal  is_missed_call  \\\n",
       "0   166377 2019-08-04 00:00:00+03:00        in     False            True   \n",
       "1   166377 2019-08-05 00:00:00+03:00       out      True            True   \n",
       "2   166377 2019-08-05 00:00:00+03:00       out      True            True   \n",
       "3   166377 2019-08-05 00:00:00+03:00       out      True           False   \n",
       "4   166377 2019-08-05 00:00:00+03:00       out     False            True   \n",
       "\n",
       "   calls_count  call_duration  total_call_duration  filled_operator_id  \\\n",
       "0            2              0                    4            880022.0   \n",
       "1            3              0                    5            880022.0   \n",
       "2            1              0                    1            880020.0   \n",
       "3            1             10                   18            880020.0   \n",
       "4            3              0                   25            880022.0   \n",
       "\n",
       "    date_data  week   month  \n",
       "0  2019-08-04    31  2019-8  \n",
       "1  2019-08-05    32  2019-8  \n",
       "2  2019-08-05    32  2019-8  \n",
       "3  2019-08-05    32  2019-8  \n",
       "4  2019-08-05    32  2019-8  "
      ]
     },
     "metadata": {},
     "execution_count": 22
    }
   ],
   "metadata": {}
  },
  {
   "cell_type": "markdown",
   "source": [
    "### Calculate each customer's call cost (according to his plan)"
   ],
   "metadata": {}
  },
  {
   "cell_type": "code",
   "execution_count": 23,
   "source": [
    "revenue = data.merge(clients, how='left', on='user_id')\r\n",
    "\r\n",
    "# As incoming calls for all plans are free, we need to isolate only outgoing calls (either internal or external)\r\n",
    "revenue_tariff_plan_A = revenue.query('tariff_plan == \"A\" & direction == \"out\"')\r\n",
    "revenue_tariff_plan_B = revenue.query('tariff_plan == \"B\" & direction == \"out\"')\r\n",
    "revenue_tariff_plan_C = revenue.query('tariff_plan == \"C\" & direction == \"out\"')\r\n",
    "\r\n",
    "tariff_A_customers = revenue_tariff_plan_A.groupby(['user_id','internal'])['total_call_duration'].sum().reset_index()\r\n",
    "tariff_B_customers = revenue_tariff_plan_B.groupby(['user_id','internal'])['total_call_duration'].sum().reset_index()\r\n",
    "tariff_C_customers = revenue_tariff_plan_C.groupby(['user_id','internal'])['total_call_duration'].sum().reset_index()\r\n",
    "\r\n",
    "# Calculate for each customer the excess_cost of its internal and external calls\r\n",
    "tariff_A_customers['internal_excess_cost'] = (tariff_A_customers[tariff_A_customers['internal'] == True]['total_call_duration'] - 2000)*0.1\r\n",
    "tariff_A_customers['external_cost'] = (tariff_A_customers[tariff_A_customers['internal'] == False]['total_call_duration'])*0.4\r\n",
    "\r\n",
    "tariff_B_customers['internal_excess_cost'] = (tariff_B_customers[tariff_B_customers['internal'] == True]['total_call_duration'] - 2000)*0.15\r\n",
    "tariff_B_customers['external_cost'] = (tariff_B_customers[tariff_B_customers['internal'] == False]['total_call_duration'])*0.5\r\n",
    "\r\n",
    "tariff_C_customers['internal_excess_cost'] = (tariff_C_customers[tariff_C_customers['internal'] == True]['total_call_duration'] - 2000)*0.3\r\n",
    "tariff_C_customers['external_cost'] = (tariff_C_customers[tariff_C_customers['internal'] == False]['total_call_duration'])*0.7\r\n",
    "\r\n",
    "# Fill missing values of the new columns and remove negative costs\r\n",
    "tariff_A_customers['internal_excess_cost'] = tariff_A_customers['internal_excess_cost'].fillna(0)\r\n",
    "tariff_A_customers['external_cost'] = tariff_A_customers['external_cost'].fillna(0)\r\n",
    "tariff_A_customers = tariff_A_customers.clip(lower=0)\r\n",
    "\r\n",
    "tariff_B_customers['internal_excess_cost'] = tariff_B_customers['internal_excess_cost'].fillna(0)\r\n",
    "tariff_B_customers['external_cost'] = tariff_B_customers['external_cost'].fillna(0)\r\n",
    "tariff_B_customers = tariff_B_customers.clip(lower=0)\r\n",
    "\r\n",
    "tariff_C_customers['internal_excess_cost'] = tariff_C_customers['internal_excess_cost'].fillna(0)\r\n",
    "tariff_C_customers['external_cost'] = tariff_C_customers['external_cost'].fillna(0)\r\n",
    "tariff_C_customers = tariff_C_customers.clip(lower=0)\r\n",
    "\r\n",
    "# Calculate call cost for each type of call\r\n",
    "tariff_A_customers['call_cost'] = tariff_A_customers['internal_excess_cost'] + tariff_A_customers['external_cost']\r\n",
    "tariff_B_customers['call_cost'] = tariff_B_customers['internal_excess_cost'] + tariff_B_customers['external_cost'] \r\n",
    "tariff_C_customers['call_cost'] = tariff_C_customers['internal_excess_cost'] + tariff_C_customers['external_cost'] \r\n"
   ],
   "outputs": [],
   "metadata": {}
  },
  {
   "cell_type": "markdown",
   "source": [
    "### Calculate each customer's operators' base cost\n",
    "\n",
    "Clients pay 100 units for each operator (irrespectiv of plan)."
   ],
   "metadata": {}
  },
  {
   "cell_type": "code",
   "execution_count": 24,
   "source": [
    "base_revenue = data.groupby('user_id')['filled_operator_id'].nunique().reset_index()\r\n",
    "base_revenue = base_revenue.rename(columns={'filled_operator_id': 'n_operators'})\r\n",
    "base_revenue['revenue_of_operators'] = base_revenue['n_operators'] * 100\r\n",
    "base_revenue.head()"
   ],
   "outputs": [
    {
     "output_type": "execute_result",
     "data": {
      "text/html": [
       "<div>\n",
       "<style scoped>\n",
       "    .dataframe tbody tr th:only-of-type {\n",
       "        vertical-align: middle;\n",
       "    }\n",
       "\n",
       "    .dataframe tbody tr th {\n",
       "        vertical-align: top;\n",
       "    }\n",
       "\n",
       "    .dataframe thead th {\n",
       "        text-align: right;\n",
       "    }\n",
       "</style>\n",
       "<table border=\"1\" class=\"dataframe\">\n",
       "  <thead>\n",
       "    <tr style=\"text-align: right;\">\n",
       "      <th></th>\n",
       "      <th>user_id</th>\n",
       "      <th>n_operators</th>\n",
       "      <th>revenue_of_operators</th>\n",
       "    </tr>\n",
       "  </thead>\n",
       "  <tbody>\n",
       "    <tr>\n",
       "      <th>0</th>\n",
       "      <td>166377</td>\n",
       "      <td>5</td>\n",
       "      <td>500</td>\n",
       "    </tr>\n",
       "    <tr>\n",
       "      <th>1</th>\n",
       "      <td>166391</td>\n",
       "      <td>2</td>\n",
       "      <td>200</td>\n",
       "    </tr>\n",
       "    <tr>\n",
       "      <th>2</th>\n",
       "      <td>166392</td>\n",
       "      <td>3</td>\n",
       "      <td>300</td>\n",
       "    </tr>\n",
       "    <tr>\n",
       "      <th>3</th>\n",
       "      <td>166399</td>\n",
       "      <td>1</td>\n",
       "      <td>100</td>\n",
       "    </tr>\n",
       "    <tr>\n",
       "      <th>4</th>\n",
       "      <td>166405</td>\n",
       "      <td>10</td>\n",
       "      <td>1000</td>\n",
       "    </tr>\n",
       "  </tbody>\n",
       "</table>\n",
       "</div>"
      ],
      "text/plain": [
       "   user_id  n_operators  revenue_of_operators\n",
       "0   166377            5                   500\n",
       "1   166391            2                   200\n",
       "2   166392            3                   300\n",
       "3   166399            1                   100\n",
       "4   166405           10                  1000"
      ]
     },
     "metadata": {},
     "execution_count": 24
    }
   ],
   "metadata": {}
  },
  {
   "cell_type": "code",
   "execution_count": 25,
   "source": [
    "# Calculate total call cost\r\n",
    "tariff_A_customers_total_revenue = tariff_A_customers.groupby(by = 'user_id')['call_cost'].sum().reset_index()\r\n",
    "tariff_B_customers_total_revenue = tariff_B_customers.groupby(by = 'user_id')['call_cost'].sum().reset_index()\r\n",
    "tariff_C_customers_total_revenue = tariff_C_customers.groupby(by = 'user_id')['call_cost'].sum().reset_index()"
   ],
   "outputs": [],
   "metadata": {}
  },
  {
   "cell_type": "markdown",
   "source": [
    "### Calculate each customer's total (call + base) cost"
   ],
   "metadata": {}
  },
  {
   "cell_type": "code",
   "execution_count": 26,
   "source": [
    "tariff_A_customers_total_revenue = tariff_A_customers_total_revenue.merge(base_revenue, how='left', on='user_id')\r\n",
    "tariff_B_customers_total_revenue = tariff_B_customers_total_revenue.merge(base_revenue, how='left', on='user_id')\r\n",
    "tariff_C_customers_total_revenue = tariff_C_customers_total_revenue.merge(base_revenue, how='left', on='user_id')\r\n",
    "\r\n",
    "tariff_A_customers_total_revenue['total_cost'] = tariff_A_customers_total_revenue['revenue_of_operators'] + tariff_A_customers_total_revenue['call_cost'] + 5000\r\n",
    "tariff_B_customers_total_revenue['total_cost'] = tariff_B_customers_total_revenue['revenue_of_operators'] + tariff_B_customers_total_revenue['call_cost'] + 2000\r\n",
    "tariff_C_customers_total_revenue['total_cost'] = tariff_C_customers_total_revenue['revenue_of_operators'] + tariff_C_customers_total_revenue['call_cost'] + 1000"
   ],
   "outputs": [],
   "metadata": {}
  },
  {
   "cell_type": "markdown",
   "source": [
    "### Calculate each customer's hypothetical cost if he switches to other plan\n",
    "\n",
    "#### Customers of Plan A (hypothetical switch to Plan B or C)"
   ],
   "metadata": {}
  },
  {
   "cell_type": "code",
   "execution_count": 27,
   "source": [
    "tariff_A_customers['internal_excess_cost_if_B'] = (tariff_A_customers[tariff_A_customers['internal'] == True]['total_call_duration'] - 2000)*0.15\r\n",
    "tariff_A_customers['internal_excess_cost_if_C'] = (tariff_A_customers[tariff_A_customers['internal'] == True]['total_call_duration'] - 2000)*0.3\r\n",
    "\r\n",
    "tariff_A_customers['external_cost_if_B'] = (tariff_A_customers[tariff_A_customers['internal'] == False]['total_call_duration'])*0.5\r\n",
    "tariff_A_customers['external_cost_if_C'] = (tariff_A_customers[tariff_A_customers['internal'] == False]['total_call_duration'])*0.7\r\n",
    "\r\n",
    "# Fill missing values of the new columns and remove negative costs\r\n",
    "tariff_A_customers['internal_excess_cost_if_B'] = tariff_A_customers['internal_excess_cost_if_B'].fillna(0)\r\n",
    "tariff_A_customers['internal_excess_cost_if_C'] = tariff_A_customers['internal_excess_cost_if_C'].fillna(0)\r\n",
    "\r\n",
    "tariff_A_customers['external_cost_if_B'] = tariff_A_customers['external_cost_if_B'].fillna(0)\r\n",
    "tariff_A_customers['external_cost_if_C'] = tariff_A_customers['external_cost_if_C'].fillna(0)\r\n",
    "\r\n",
    "tariff_A_customers = tariff_A_customers.clip(lower=0)\r\n",
    "\r\n",
    "# Calculate call cost for each type of call\r\n",
    "tariff_A_customers['call_cost_if_B'] = tariff_A_customers['internal_excess_cost_if_B'] + tariff_A_customers['external_cost_if_B']\r\n",
    "tariff_A_customers['call_cost_if_C'] = tariff_A_customers['internal_excess_cost_if_C'] + tariff_A_customers['external_cost_if_C']\r\n",
    "\r\n",
    "\r\n",
    "tariff_A_customers_total_revenue_if_B = tariff_A_customers.groupby(by = 'user_id')['call_cost_if_B'].sum().reset_index()\r\n",
    "tariff_A_customers_total_revenue_if_B = tariff_A_customers_total_revenue_if_B.merge(base_revenue, how='left', on='user_id')\r\n",
    "tariff_A_customers_total_revenue_if_B['total_cost_if_B'] = tariff_A_customers_total_revenue_if_B['revenue_of_operators'] + tariff_A_customers_total_revenue_if_B['call_cost_if_B'] + 2000\r\n",
    "\r\n",
    "\r\n",
    "tariff_A_customers_total_revenue_if_C = tariff_A_customers.groupby(by = 'user_id')['call_cost_if_C'].sum().reset_index()\r\n",
    "tariff_A_customers_total_revenue_if_C = tariff_A_customers_total_revenue_if_C.merge(base_revenue, how='left', on='user_id')\r\n",
    "tariff_A_customers_total_revenue_if_C['total_cost_if_C'] = tariff_A_customers_total_revenue_if_C['revenue_of_operators'] + tariff_A_customers_total_revenue_if_C['call_cost_if_C'] + 1000\r\n"
   ],
   "outputs": [],
   "metadata": {}
  },
  {
   "cell_type": "markdown",
   "source": [
    "#### Customers of Plan B (hypothetical switch to Plan A or C)"
   ],
   "metadata": {}
  },
  {
   "cell_type": "code",
   "execution_count": 28,
   "source": [
    "tariff_B_customers['internal_excess_cost_if_A'] = (tariff_B_customers[tariff_B_customers['internal'] == True]['total_call_duration'] - 2000)*0.1\r\n",
    "tariff_B_customers['internal_excess_cost_if_C'] = (tariff_B_customers[tariff_B_customers['internal'] == True]['total_call_duration'] - 2000)*0.3\r\n",
    "\r\n",
    "tariff_B_customers['external_cost_if_A'] = (tariff_B_customers[tariff_B_customers['internal'] == False]['total_call_duration'])*0.4\r\n",
    "tariff_B_customers['external_cost_if_C'] = (tariff_B_customers[tariff_B_customers['internal'] == False]['total_call_duration'])*0.7\r\n",
    "\r\n",
    "# Fill missing values of the new columns and remove negative costs\r\n",
    "tariff_B_customers['internal_excess_cost_if_A'] = tariff_B_customers['internal_excess_cost_if_A'].fillna(0)\r\n",
    "tariff_B_customers['internal_excess_cost_if_C'] = tariff_B_customers['internal_excess_cost_if_C'].fillna(0)\r\n",
    "\r\n",
    "tariff_B_customers['external_cost_if_A'] = tariff_B_customers['external_cost_if_A'].fillna(0)\r\n",
    "tariff_B_customers['external_cost_if_C'] = tariff_B_customers['external_cost_if_C'].fillna(0)\r\n",
    "\r\n",
    "tariff_B_customers = tariff_B_customers.clip(lower=0)\r\n",
    "\r\n",
    "# Calculate call cost for each type of call\r\n",
    "tariff_B_customers['call_cost_if_A'] = tariff_B_customers['internal_excess_cost_if_A'] + tariff_B_customers['external_cost_if_A']\r\n",
    "tariff_B_customers['call_cost_if_C'] = tariff_B_customers['internal_excess_cost_if_C'] + tariff_B_customers['external_cost_if_C']\r\n",
    "\r\n",
    "\r\n",
    "tariff_B_customers_total_revenue_if_A = tariff_B_customers.groupby(by = 'user_id')['call_cost_if_A'].sum().reset_index()\r\n",
    "tariff_B_customers_total_revenue_if_A = tariff_B_customers_total_revenue_if_A.merge(base_revenue, how='left', on='user_id')\r\n",
    "tariff_B_customers_total_revenue_if_A['total_cost_if_A'] = tariff_B_customers_total_revenue_if_A['revenue_of_operators'] + tariff_B_customers_total_revenue_if_A['call_cost_if_A'] + 5000\r\n",
    "\r\n",
    "\r\n",
    "tariff_B_customers_total_revenue_if_C = tariff_B_customers.groupby(by = 'user_id')['call_cost_if_C'].sum().reset_index()\r\n",
    "tariff_B_customers_total_revenue_if_C = tariff_B_customers_total_revenue_if_C.merge(base_revenue, how='left', on='user_id')\r\n",
    "tariff_B_customers_total_revenue_if_C['total_cost_if_C'] = tariff_B_customers_total_revenue_if_C['revenue_of_operators'] + tariff_B_customers_total_revenue_if_C['call_cost_if_C'] + 1000\r\n"
   ],
   "outputs": [],
   "metadata": {}
  },
  {
   "cell_type": "markdown",
   "source": [
    "#### Customers of Plan C (hypothetical switch to Plan A or B)"
   ],
   "metadata": {}
  },
  {
   "cell_type": "code",
   "execution_count": 29,
   "source": [
    "tariff_C_customers['internal_excess_cost_if_A'] = (tariff_C_customers[tariff_C_customers['internal'] == True]['total_call_duration'] - 2000)*0.1\r\n",
    "tariff_C_customers['internal_excess_cost_if_B'] = (tariff_C_customers[tariff_C_customers['internal'] == True]['total_call_duration'] - 2000)*0.15\r\n",
    "\r\n",
    "tariff_C_customers['external_cost_if_A'] = (tariff_C_customers[tariff_C_customers['internal'] == False]['total_call_duration'])*0.4\r\n",
    "tariff_C_customers['external_cost_if_B'] = (tariff_C_customers[tariff_C_customers['internal'] == False]['total_call_duration'])*0.5\r\n",
    "\r\n",
    "# Fill missing values of the new columns and remove negative costs\r\n",
    "tariff_C_customers['internal_excess_cost_if_A'] = tariff_C_customers['internal_excess_cost_if_A'].fillna(0)\r\n",
    "tariff_C_customers['internal_excess_cost_if_B'] = tariff_C_customers['internal_excess_cost_if_B'].fillna(0)\r\n",
    "\r\n",
    "tariff_C_customers['external_cost_if_A'] = tariff_C_customers['external_cost_if_A'].fillna(0)\r\n",
    "tariff_C_customers['external_cost_if_B'] = tariff_C_customers['external_cost_if_B'].fillna(0)\r\n",
    "\r\n",
    "tariff_C_customers = tariff_C_customers.clip(lower=0)\r\n",
    "\r\n",
    "# Calculate call cost for each type of call\r\n",
    "tariff_C_customers['call_cost_if_A'] = tariff_C_customers['internal_excess_cost_if_A'] + tariff_C_customers['external_cost_if_A']\r\n",
    "tariff_C_customers['call_cost_if_B'] = tariff_C_customers['internal_excess_cost_if_B'] + tariff_C_customers['external_cost_if_B']\r\n",
    "\r\n",
    "\r\n",
    "tariff_C_customers_total_revenue_if_A = tariff_C_customers.groupby(by = 'user_id')['call_cost_if_A'].sum().reset_index()\r\n",
    "tariff_C_customers_total_revenue_if_A = tariff_C_customers_total_revenue_if_A.merge(base_revenue, how='left', on='user_id')\r\n",
    "tariff_C_customers_total_revenue_if_A['total_cost_if_A'] = tariff_C_customers_total_revenue_if_A['revenue_of_operators'] + tariff_C_customers_total_revenue_if_A['call_cost_if_A'] + 5000\r\n",
    "\r\n",
    "\r\n",
    "tariff_C_customers_total_revenue_if_B = tariff_C_customers.groupby(by = 'user_id')['call_cost_if_B'].sum().reset_index()\r\n",
    "tariff_C_customers_total_revenue_if_B = tariff_C_customers_total_revenue_if_B.merge(base_revenue, how='left', on='user_id')\r\n",
    "tariff_C_customers_total_revenue_if_B['total_cost_if_B'] = tariff_C_customers_total_revenue_if_B['revenue_of_operators'] + tariff_C_customers_total_revenue_if_B['call_cost_if_B'] + 2000\r\n"
   ],
   "outputs": [],
   "metadata": {}
  },
  {
   "cell_type": "markdown",
   "source": [
    "### Calculate each customer's hypothetical savings if he switches to another plan.\n",
    "\n",
    "We have added the variable `switch`, which takes the value 1 if savings are positive, meaning that a customer has a profit to switch into another plan. (So they overpay for their current plans)"
   ],
   "metadata": {}
  },
  {
   "cell_type": "code",
   "execution_count": 30,
   "source": [
    "tariff_A_customers_all = [tariff_A_customers_total_revenue['user_id'], tariff_A_customers_total_revenue['total_cost'], tariff_A_customers_total_revenue_if_B['total_cost_if_B'],\r\n",
    "                         tariff_A_customers_total_revenue_if_C['total_cost_if_C']]\r\n",
    "\r\n",
    "headers_A = [\"user_id\", \"total_cost\", \"total_cost_if_B\", \"total_cost_if_C\"]\r\n",
    "\r\n",
    "tariff_A_customers_all_df = pd.concat(tariff_A_customers_all, axis=1, keys=headers_A)\r\n",
    "tariff_A_customers_all_df = tariff_A_customers_all_df.set_index('user_id')\r\n",
    "\r\n",
    "\r\n",
    "tariff_A_customers_all_df['save_if_B'] = tariff_A_customers_all_df['total_cost'] - tariff_A_customers_all_df['total_cost_if_B']\r\n",
    "tariff_A_customers_all_df['save_if_C'] = tariff_A_customers_all_df['total_cost'] - tariff_A_customers_all_df['total_cost_if_C']"
   ],
   "outputs": [],
   "metadata": {}
  },
  {
   "cell_type": "code",
   "execution_count": 31,
   "source": [
    "tariff_B_customers_all = [tariff_B_customers_total_revenue['user_id'], tariff_B_customers_total_revenue['total_cost'], tariff_B_customers_total_revenue_if_A['total_cost_if_A'],\r\n",
    "                         tariff_B_customers_total_revenue_if_C['total_cost_if_C']]\r\n",
    "\r\n",
    "headers_B = [\"user_id\", \"total_cost\", \"total_cost_if_A\", \"total_cost_if_C\"]\r\n",
    "\r\n",
    "tariff_B_customers_all_df = pd.concat(tariff_B_customers_all, axis=1, keys=headers_B)\r\n",
    "tariff_B_customers_all_df = tariff_B_customers_all_df.set_index('user_id')\r\n",
    "\r\n",
    "tariff_B_customers_all_df['save_if_A'] = tariff_B_customers_all_df['total_cost'] - tariff_B_customers_all_df['total_cost_if_A']\r\n",
    "tariff_B_customers_all_df['save_if_C'] = tariff_B_customers_all_df['total_cost'] - tariff_B_customers_all_df['total_cost_if_C']"
   ],
   "outputs": [],
   "metadata": {}
  },
  {
   "cell_type": "code",
   "execution_count": 32,
   "source": [
    "tariff_C_customers_all = [tariff_C_customers_total_revenue['user_id'], tariff_C_customers_total_revenue['total_cost'], tariff_C_customers_total_revenue_if_A['total_cost_if_A'],\r\n",
    "                         tariff_C_customers_total_revenue_if_B['total_cost_if_B']]\r\n",
    "\r\n",
    "headers_C = [\"user_id\", \"total_cost\", \"total_cost_if_A\", \"total_cost_if_B\"]\r\n",
    "\r\n",
    "tariff_C_customers_all_df = pd.concat(tariff_C_customers_all, axis=1, keys=headers_C)\r\n",
    "tariff_C_customers_all_df = tariff_C_customers_all_df.set_index('user_id')\r\n",
    "\r\n",
    "tariff_C_customers_all_df['save_if_A'] = tariff_C_customers_all_df['total_cost'] - tariff_C_customers_all_df['total_cost_if_A']\r\n",
    "tariff_C_customers_all_df['save_if_B'] = tariff_C_customers_all_df['total_cost'] - tariff_C_customers_all_df['total_cost_if_B']"
   ],
   "outputs": [],
   "metadata": {}
  },
  {
   "cell_type": "code",
   "execution_count": 33,
   "source": [
    "condition_tariff_A = [\r\n",
    "    (tariff_A_customers_all_df['save_if_B'] > 0) | (tariff_A_customers_all_df['save_if_C'] > 0)\r\n",
    "]\r\n",
    "\r\n",
    "condition_tariff_B = [\r\n",
    "    (tariff_B_customers_all_df['save_if_A'] > 0) | (tariff_B_customers_all_df['save_if_C'] > 0)\r\n",
    "]\r\n",
    "\r\n",
    "condition_tariff_C = [\r\n",
    "    (tariff_C_customers_all_df['save_if_A'] > 0) | (tariff_C_customers_all_df['save_if_B'] > 0)\r\n",
    "]\r\n",
    "\r\n",
    "# create a list of the values we want to assign for each condition\r\n",
    "value = [1]\r\n",
    "\r\n",
    "# create a new column and use np.select to assign values to it using our lists as arguments\r\n",
    "tariff_A_customers_all_df['switch'] = np.select(condition_tariff_A, value)\r\n",
    "tariff_B_customers_all_df['switch'] = np.select(condition_tariff_B, value)\r\n",
    "tariff_C_customers_all_df['switch'] = np.select(condition_tariff_C, value)"
   ],
   "outputs": [],
   "metadata": {}
  },
  {
   "cell_type": "code",
   "execution_count": 34,
   "source": [
    "tariff_A_customers_all_df.head()"
   ],
   "outputs": [
    {
     "output_type": "execute_result",
     "data": {
      "text/html": [
       "<div>\n",
       "<style scoped>\n",
       "    .dataframe tbody tr th:only-of-type {\n",
       "        vertical-align: middle;\n",
       "    }\n",
       "\n",
       "    .dataframe tbody tr th {\n",
       "        vertical-align: top;\n",
       "    }\n",
       "\n",
       "    .dataframe thead th {\n",
       "        text-align: right;\n",
       "    }\n",
       "</style>\n",
       "<table border=\"1\" class=\"dataframe\">\n",
       "  <thead>\n",
       "    <tr style=\"text-align: right;\">\n",
       "      <th></th>\n",
       "      <th>total_cost</th>\n",
       "      <th>total_cost_if_B</th>\n",
       "      <th>total_cost_if_C</th>\n",
       "      <th>save_if_B</th>\n",
       "      <th>save_if_C</th>\n",
       "      <th>switch</th>\n",
       "    </tr>\n",
       "    <tr>\n",
       "      <th>user_id</th>\n",
       "      <th></th>\n",
       "      <th></th>\n",
       "      <th></th>\n",
       "      <th></th>\n",
       "      <th></th>\n",
       "      <th></th>\n",
       "    </tr>\n",
       "  </thead>\n",
       "  <tbody>\n",
       "    <tr>\n",
       "      <th>166407</th>\n",
       "      <td>16949.0</td>\n",
       "      <td>17237.1</td>\n",
       "      <td>23815.0</td>\n",
       "      <td>-288.1</td>\n",
       "      <td>-6866.0</td>\n",
       "      <td>0</td>\n",
       "    </tr>\n",
       "    <tr>\n",
       "      <th>166541</th>\n",
       "      <td>11307.6</td>\n",
       "      <td>9784.5</td>\n",
       "      <td>11738.3</td>\n",
       "      <td>1523.1</td>\n",
       "      <td>-430.7</td>\n",
       "      <td>1</td>\n",
       "    </tr>\n",
       "    <tr>\n",
       "      <th>166582</th>\n",
       "      <td>4635321.6</td>\n",
       "      <td>5789827.0</td>\n",
       "      <td>8103837.8</td>\n",
       "      <td>-1154505.4</td>\n",
       "      <td>-3468516.2</td>\n",
       "      <td>0</td>\n",
       "    </tr>\n",
       "    <tr>\n",
       "      <th>166609</th>\n",
       "      <td>9080.8</td>\n",
       "      <td>6976.0</td>\n",
       "      <td>7766.4</td>\n",
       "      <td>2104.8</td>\n",
       "      <td>1314.4</td>\n",
       "      <td>1</td>\n",
       "    </tr>\n",
       "    <tr>\n",
       "      <th>166713</th>\n",
       "      <td>5305.2</td>\n",
       "      <td>2331.5</td>\n",
       "      <td>1384.1</td>\n",
       "      <td>2973.7</td>\n",
       "      <td>3921.1</td>\n",
       "      <td>1</td>\n",
       "    </tr>\n",
       "  </tbody>\n",
       "</table>\n",
       "</div>"
      ],
      "text/plain": [
       "         total_cost  total_cost_if_B  total_cost_if_C  save_if_B  save_if_C  \\\n",
       "user_id                                                                       \n",
       "166407      16949.0          17237.1          23815.0     -288.1    -6866.0   \n",
       "166541      11307.6           9784.5          11738.3     1523.1     -430.7   \n",
       "166582    4635321.6        5789827.0        8103837.8 -1154505.4 -3468516.2   \n",
       "166609       9080.8           6976.0           7766.4     2104.8     1314.4   \n",
       "166713       5305.2           2331.5           1384.1     2973.7     3921.1   \n",
       "\n",
       "         switch  \n",
       "user_id          \n",
       "166407        0  \n",
       "166541        1  \n",
       "166582        0  \n",
       "166609        1  \n",
       "166713        1  "
      ]
     },
     "metadata": {},
     "execution_count": 34
    }
   ],
   "metadata": {
    "scrolled": true
   }
  },
  {
   "cell_type": "code",
   "execution_count": 35,
   "source": [
    "tariff_A_customers_total_revenue['total_cost'].plot(kind='density', label = 'A')\r\n",
    "tariff_B_customers_total_revenue['total_cost'].plot(kind='density', label = 'B')\r\n",
    "tariff_C_customers_total_revenue['total_cost'].plot(kind='density', label = 'C')\r\n",
    "\r\n",
    "# Plot formatting\r\n",
    "plt.legend()\r\n",
    "plt.title('Density Plot of revenue for A, B, and C tariff customers')\r\n",
    "plt.xlabel('Revenue')\r\n",
    "plt.ylabel('Density')"
   ],
   "outputs": [
    {
     "output_type": "execute_result",
     "data": {
      "text/plain": [
       "Text(0, 0.5, 'Density')"
      ]
     },
     "metadata": {},
     "execution_count": 35
    },
    {
     "output_type": "display_data",
     "data": {
      "image/png": "[encoded data removed]",
      "text/plain": [
       "<Figure size 432x288 with 1 Axes>"
      ]
     },
     "metadata": {
      "needs_background": "light"
     }
    }
   ],
   "metadata": {}
  },
  {
   "cell_type": "markdown",
   "source": [
    "The above density plot shows how different the revenue distributions between the plans are. We can infer that the means and variances abetween the plans are different, but we must make an statistic test to be certain (which we do in section 4. Test the hypotheses).\n",
    "\n",
    "The density histogram above shows almost all values are from 0 to 125 for both plans, with very few above that value. The mean of both datasets is above the median (as confirmed from the describe() method) resulting a right skew density line. Overall, it does not seem that medians and standard deviations of the duration of the calls are different between the two plans. But if we want to compare for means we must follow up with a statistic test.\n",
    "\n",
    "### Customers who need bigger plans\n",
    "\n",
    "Customers from plan A can only switch to lower plans. Now we will find customers from plan B and C that is to their advantage to switch to a bigger plan. For example, below we can see customers that we should propose an upgrade to their plans."
   ],
   "metadata": {}
  },
  {
   "cell_type": "code",
   "execution_count": 36,
   "source": [
    "tariff_B_customers_all_df.query('save_if_A > 0').head()"
   ],
   "outputs": [
    {
     "output_type": "execute_result",
     "data": {
      "text/html": [
       "<div>\n",
       "<style scoped>\n",
       "    .dataframe tbody tr th:only-of-type {\n",
       "        vertical-align: middle;\n",
       "    }\n",
       "\n",
       "    .dataframe tbody tr th {\n",
       "        vertical-align: top;\n",
       "    }\n",
       "\n",
       "    .dataframe thead th {\n",
       "        text-align: right;\n",
       "    }\n",
       "</style>\n",
       "<table border=\"1\" class=\"dataframe\">\n",
       "  <thead>\n",
       "    <tr style=\"text-align: right;\">\n",
       "      <th></th>\n",
       "      <th>total_cost</th>\n",
       "      <th>total_cost_if_A</th>\n",
       "      <th>total_cost_if_C</th>\n",
       "      <th>save_if_A</th>\n",
       "      <th>save_if_C</th>\n",
       "      <th>switch</th>\n",
       "    </tr>\n",
       "    <tr>\n",
       "      <th>user_id</th>\n",
       "      <th></th>\n",
       "      <th></th>\n",
       "      <th></th>\n",
       "      <th></th>\n",
       "      <th></th>\n",
       "      <th></th>\n",
       "    </tr>\n",
       "  </thead>\n",
       "  <tbody>\n",
       "    <tr>\n",
       "      <th>166377</th>\n",
       "      <td>191727.5</td>\n",
       "      <td>156882.0</td>\n",
       "      <td>266418.5</td>\n",
       "      <td>34845.5</td>\n",
       "      <td>-74691.0</td>\n",
       "      <td>1</td>\n",
       "    </tr>\n",
       "    <tr>\n",
       "      <th>166405</th>\n",
       "      <td>480986.0</td>\n",
       "      <td>388388.8</td>\n",
       "      <td>671180.4</td>\n",
       "      <td>92597.2</td>\n",
       "      <td>-190194.4</td>\n",
       "      <td>1</td>\n",
       "    </tr>\n",
       "    <tr>\n",
       "      <th>166406</th>\n",
       "      <td>215267.5</td>\n",
       "      <td>175674.0</td>\n",
       "      <td>299454.5</td>\n",
       "      <td>39593.5</td>\n",
       "      <td>-84187.0</td>\n",
       "      <td>1</td>\n",
       "    </tr>\n",
       "    <tr>\n",
       "      <th>166485</th>\n",
       "      <td>228835.1</td>\n",
       "      <td>185815.2</td>\n",
       "      <td>321807.1</td>\n",
       "      <td>43019.9</td>\n",
       "      <td>-92972.0</td>\n",
       "      <td>1</td>\n",
       "    </tr>\n",
       "    <tr>\n",
       "      <th>166495</th>\n",
       "      <td>97942.5</td>\n",
       "      <td>81794.0</td>\n",
       "      <td>135239.5</td>\n",
       "      <td>16148.5</td>\n",
       "      <td>-37297.0</td>\n",
       "      <td>1</td>\n",
       "    </tr>\n",
       "  </tbody>\n",
       "</table>\n",
       "</div>"
      ],
      "text/plain": [
       "         total_cost  total_cost_if_A  total_cost_if_C  save_if_A  save_if_C  \\\n",
       "user_id                                                                       \n",
       "166377     191727.5         156882.0         266418.5    34845.5   -74691.0   \n",
       "166405     480986.0         388388.8         671180.4    92597.2  -190194.4   \n",
       "166406     215267.5         175674.0         299454.5    39593.5   -84187.0   \n",
       "166485     228835.1         185815.2         321807.1    43019.9   -92972.0   \n",
       "166495      97942.5          81794.0         135239.5    16148.5   -37297.0   \n",
       "\n",
       "         switch  \n",
       "user_id          \n",
       "166377        1  \n",
       "166405        1  \n",
       "166406        1  \n",
       "166485        1  \n",
       "166495        1  "
      ]
     },
     "metadata": {},
     "execution_count": 36
    }
   ],
   "metadata": {}
  },
  {
   "cell_type": "markdown",
   "source": [
    "For the Plan C (lowest plan) customers, any of the other two plans is a bigger plan. So below we each customer that it saves him money to upgrade to any bigger plan."
   ],
   "metadata": {}
  },
  {
   "cell_type": "code",
   "execution_count": 37,
   "source": [
    " tariff_C_customers_all_df.query('save_if_A > 0 | save_if_B > 0').head()"
   ],
   "outputs": [
    {
     "output_type": "execute_result",
     "data": {
      "text/html": [
       "<div>\n",
       "<style scoped>\n",
       "    .dataframe tbody tr th:only-of-type {\n",
       "        vertical-align: middle;\n",
       "    }\n",
       "\n",
       "    .dataframe tbody tr th {\n",
       "        vertical-align: top;\n",
       "    }\n",
       "\n",
       "    .dataframe thead th {\n",
       "        text-align: right;\n",
       "    }\n",
       "</style>\n",
       "<table border=\"1\" class=\"dataframe\">\n",
       "  <thead>\n",
       "    <tr style=\"text-align: right;\">\n",
       "      <th></th>\n",
       "      <th>total_cost</th>\n",
       "      <th>total_cost_if_A</th>\n",
       "      <th>total_cost_if_B</th>\n",
       "      <th>save_if_A</th>\n",
       "      <th>save_if_B</th>\n",
       "      <th>switch</th>\n",
       "    </tr>\n",
       "    <tr>\n",
       "      <th>user_id</th>\n",
       "      <th></th>\n",
       "      <th></th>\n",
       "      <th></th>\n",
       "      <th></th>\n",
       "      <th></th>\n",
       "      <th></th>\n",
       "    </tr>\n",
       "  </thead>\n",
       "  <tbody>\n",
       "    <tr>\n",
       "      <th>166487</th>\n",
       "      <td>5875.4</td>\n",
       "      <td>7828.8</td>\n",
       "      <td>5511.0</td>\n",
       "      <td>-1953.4</td>\n",
       "      <td>364.4</td>\n",
       "      <td>1</td>\n",
       "    </tr>\n",
       "    <tr>\n",
       "      <th>166511</th>\n",
       "      <td>373189.7</td>\n",
       "      <td>217808.4</td>\n",
       "      <td>267935.5</td>\n",
       "      <td>155381.3</td>\n",
       "      <td>105254.2</td>\n",
       "      <td>1</td>\n",
       "    </tr>\n",
       "    <tr>\n",
       "      <th>166520</th>\n",
       "      <td>250565.7</td>\n",
       "      <td>148380.4</td>\n",
       "      <td>180775.5</td>\n",
       "      <td>102185.3</td>\n",
       "      <td>69790.2</td>\n",
       "      <td>1</td>\n",
       "    </tr>\n",
       "    <tr>\n",
       "      <th>166619</th>\n",
       "      <td>4735.1</td>\n",
       "      <td>7177.2</td>\n",
       "      <td>4696.5</td>\n",
       "      <td>-2442.1</td>\n",
       "      <td>38.6</td>\n",
       "      <td>1</td>\n",
       "    </tr>\n",
       "    <tr>\n",
       "      <th>166677</th>\n",
       "      <td>17170.6</td>\n",
       "      <td>14283.2</td>\n",
       "      <td>13579.0</td>\n",
       "      <td>2887.4</td>\n",
       "      <td>3591.6</td>\n",
       "      <td>1</td>\n",
       "    </tr>\n",
       "  </tbody>\n",
       "</table>\n",
       "</div>"
      ],
      "text/plain": [
       "         total_cost  total_cost_if_A  total_cost_if_B  save_if_A  save_if_B  \\\n",
       "user_id                                                                       \n",
       "166487       5875.4           7828.8           5511.0    -1953.4      364.4   \n",
       "166511     373189.7         217808.4         267935.5   155381.3   105254.2   \n",
       "166520     250565.7         148380.4         180775.5   102185.3    69790.2   \n",
       "166619       4735.1           7177.2           4696.5    -2442.1       38.6   \n",
       "166677      17170.6          14283.2          13579.0     2887.4     3591.6   \n",
       "\n",
       "         switch  \n",
       "user_id          \n",
       "166487        1  \n",
       "166511        1  \n",
       "166520        1  \n",
       "166619        1  \n",
       "166677        1  "
      ]
     },
     "metadata": {},
     "execution_count": 37
    }
   ],
   "metadata": {}
  },
  {
   "cell_type": "code",
   "execution_count": 38,
   "source": [
    "print('Number of customers that overpay {:.1f}.'.format(len(tariff_A_customers_all_df.query('switch == 1'))))\r\n",
    "print('Number of customers that need bigger plans {:.1f}.'.format(\r\n",
    "    len(tariff_B_customers_all_df.query('save_if_A > 0') +\r\n",
    "    len( tariff_C_customers_all_df.query('save_if_A > 0 | save_if_B > 0')))))"
   ],
   "outputs": [
    {
     "output_type": "stream",
     "name": "stdout",
     "text": [
      "Number of customers that overpay 9.0.\n",
      "Number of customers that need bigger plans 37.0.\n"
     ]
    }
   ],
   "metadata": {}
  },
  {
   "cell_type": "markdown",
   "source": [
    "## Conclusion <a name=\"subparagraph9\"></a>\r\n",
    "\r\n",
    "In order to take a glimpse at whether or not a customer is satisfied, we should first calculate his cost at its current usage and how this usage translates into other plans. We found which customers overpay their plans (9 customers) and how many need bigger ones (37).\r\n",
    "\r\n",
    "# Testing hypotheses <a name=\"paragraph3\"></a>\r\n",
    "We will now proceed with the testing hypotheses section. We will first check if our samples come from a normal distributed population in order to decide which tests we will use later.\r\n",
    "\r\n",
    "### Shapiro Test for normally distributed populations"
   ],
   "metadata": {}
  },
  {
   "cell_type": "code",
   "execution_count": 39,
   "source": [
    "stat, p = st.shapiro(tariff_A_customers_total_revenue['total_cost'])\r\n",
    "print('Statistics=%.3f, p=%.3f' % (stat, p))\r\n",
    "# interpret\r\n",
    "alpha = 0.05\r\n",
    "if p > alpha:\r\n",
    "    print('Prob normal distribution (fail to reject H0)')\r\n",
    "else:\r\n",
    "    print('Prob NOT normal distribution (reject H0)')\r\n",
    "    \r\n",
    "print()   \r\n",
    "stat, p = st.shapiro(tariff_B_customers_total_revenue['total_cost'])\r\n",
    "print('Statistics=%.3f, p=%.3f' % (stat, p))\r\n",
    "# interpret\r\n",
    "alpha = 0.05\r\n",
    "if p > alpha:\r\n",
    "    print('Prob normal distribution (fail to reject H0)')\r\n",
    "else:\r\n",
    "    print('Prob NOT normal distribution (reject H0)')\r\n",
    "    \r\n",
    "print()   \r\n",
    "stat, p = st.shapiro(tariff_C_customers_total_revenue['total_cost'])\r\n",
    "print('Statistics=%.3f, p=%.3f' % (stat, p))\r\n",
    "# interpret\r\n",
    "alpha = 0.05\r\n",
    "if p > alpha:\r\n",
    "    print('Prob normal distribution (fail to reject H0)')\r\n",
    "else:\r\n",
    "    print('Prob NOT normal distribution (reject H0)')"
   ],
   "outputs": [
    {
     "output_type": "stream",
     "name": "stdout",
     "text": [
      "Statistics=0.436, p=0.000\n",
      "Prob NOT normal distribution (reject H0)\n",
      "\n",
      "Statistics=0.378, p=0.000\n",
      "Prob NOT normal distribution (reject H0)\n",
      "\n",
      "Statistics=0.484, p=0.000\n",
      "Prob NOT normal distribution (reject H0)\n"
     ]
    }
   ],
   "metadata": {}
  },
  {
   "cell_type": "markdown",
   "source": [
    "We can conclude that all three variables come from a population with NOT normal distribution. So we will use the Mann-Whitney U test for comparing independent data samples: the nonparametric version of the Student t-test.\n",
    "\n",
    "### Mann-Whitney U non-parametric test for comparing means\n",
    "\n",
    "Our 1st hypotheses is that the average revenue from users from differenent calling plans differs. The H0 is that the mean of revenue for tariff_A users is equal to the mean of revenue for tariff_B users.\n",
    "\n",
    "    H0: μ(A) = μ(B)\n",
    "\n",
    "    Ha: μ(A) != μ(B)\n",
    "\n",
    "This is a two sided test and we we use the significance level of 5%."
   ],
   "metadata": {}
  },
  {
   "cell_type": "code",
   "execution_count": 40,
   "source": [
    "print(\"{0:.5f}\".format(st.mannwhitneyu(tariff_A_customers_total_revenue['total_cost'], tariff_B_customers_total_revenue['total_cost'])[1]))\r\n",
    "# interpret\r\n",
    "alpha = 0.05\r\n",
    "if st.mannwhitneyu(tariff_A_customers_total_revenue['total_cost'], tariff_B_customers_total_revenue['total_cost'])[1] > alpha:\r\n",
    "    print('Same distribution (fail to reject H0)')\r\n",
    "else:\r\n",
    "    print('Different distributions between the two variables, so revenue differs from Group A to Group B. (reject H0)')"
   ],
   "outputs": [
    {
     "output_type": "stream",
     "name": "stdout",
     "text": [
      "0.00284\n",
      "Different distributions between the two variables, so revenue differs from Group A to Group B. (reject H0)\n"
     ]
    }
   ],
   "metadata": {}
  },
  {
   "cell_type": "markdown",
   "source": [
    "Our 2nd hypotheses is that the average revenue from users from differenent calling plans differs. The H0 is that the mean of revenue for tariff_A users is equal to the mean of revenue for tariff_C users.\n",
    "\n",
    "    H0: μ(A) = μ(C)\n",
    "\n",
    "    Ha: μ(A) != μ(C)\n",
    "\n",
    "This is a two sided test and we we use the significance level of 5%."
   ],
   "metadata": {}
  },
  {
   "cell_type": "code",
   "execution_count": 41,
   "source": [
    "print(\"{0:.5f}\".format(st.mannwhitneyu(tariff_A_customers_total_revenue['total_cost'], tariff_C_customers_total_revenue['total_cost'])[1]))\r\n",
    "# interpret\r\n",
    "alpha = 0.05\r\n",
    "if st.mannwhitneyu(tariff_A_customers_total_revenue['total_cost'], tariff_C_customers_total_revenue['total_cost'])[1] > alpha:\r\n",
    "    print('Same distribution (fail to reject H0)')\r\n",
    "else:\r\n",
    "    print('Different distributions between the two variables, so revenue differs from Group A to Group C. (reject H0)')"
   ],
   "outputs": [
    {
     "output_type": "stream",
     "name": "stdout",
     "text": [
      "0.00062\n",
      "Different distributions between the two variables, so revenue differs from Group A to Group C. (reject H0)\n"
     ]
    }
   ],
   "metadata": {}
  },
  {
   "cell_type": "markdown",
   "source": [
    "Our 3rd hypotheses is that the average revenue from users from differenent calling plans differs. The H0 is that the mean of revenue for tariff_B users is equal to the mean of revenue for tariff_C users.\n",
    "\n",
    "    H0: μ(B) = μ(C)\n",
    "\n",
    "    Ha: μ(B) != μ(C)\n",
    "\n",
    "This is a two sided test and we we use the significance level of 5%."
   ],
   "metadata": {}
  },
  {
   "cell_type": "code",
   "execution_count": 42,
   "source": [
    "print(\"{0:.5f}\".format(st.mannwhitneyu(tariff_B_customers_total_revenue['total_cost'], tariff_C_customers_total_revenue['total_cost'])[1]))\r\n",
    "# interpret\r\n",
    "alpha = 0.05\r\n",
    "if st.mannwhitneyu(tariff_B_customers_total_revenue['total_cost'], tariff_C_customers_total_revenue['total_cost'])[1] > alpha:\r\n",
    "    print('Same distribution (fail to reject H0)')\r\n",
    "else:\r\n",
    "    print('Different distributions between the two variables, so revenue differs from Group B to Group C. (reject H0)')"
   ],
   "outputs": [
    {
     "output_type": "stream",
     "name": "stdout",
     "text": [
      "0.04141\n",
      "Different distributions between the two variables, so revenue differs from Group B to Group C. (reject H0)\n"
     ]
    }
   ],
   "metadata": {}
  },
  {
   "cell_type": "code",
   "execution_count": 43,
   "source": [
    "print('Percentage of current Plan A customers that are likely to change plan: {:.2%}.'.format(\r\n",
    "     tariff_A_customers_all_df['switch'].sum() / len(tariff_A_customers_all_df['switch'])))\r\n",
    "\r\n",
    "print('Percentage of current Plan B customers that are likely to change plan: {:.2%}.'.format(\r\n",
    "     tariff_B_customers_all_df['switch'].sum() / len(tariff_B_customers_all_df['switch'])))\r\n",
    "\r\n",
    "print('Percentage of current Plan C customers that are likely to change plan: {:.2%}.'.format(\r\n",
    "      tariff_C_customers_all_df['switch'].sum() / len(tariff_C_customers_all_df['switch'])))"
   ],
   "outputs": [
    {
     "output_type": "stream",
     "name": "stdout",
     "text": [
      "Percentage of current Plan A customers that are likely to change plan: 33.33%.\n",
      "Percentage of current Plan B customers that are likely to change plan: 72.41%.\n",
      "Percentage of current Plan C customers that are likely to change plan: 57.41%.\n"
     ]
    }
   ],
   "metadata": {}
  },
  {
   "cell_type": "markdown",
   "source": [
    "## 5A. Conclusion <a name=\"subparagraph10\"></a>\r\n",
    "\r\n",
    "In this section we have found that:\r\n",
    "- samples are not normally distributed\r\n",
    "- the average revenue from users of A, B and C calling plans do differ.\r\n",
    "- the percentage of current Plan A, B and C customers that are likely to change plans is 33.33%, 72.41% and 57.41%\r\n",
    "    \r\n",
    "# Prediction models <a name=\"paragraph4\"></a>\r\n",
    "\r\n",
    "My thinking was that we aim to care about if a user will decide to switch or not. Using a Logistic Regression (as dependent variable is binary (switcher or not), I tried to make a model in order to evaluate how the independent variable `total_call_duration` and `internal` help us predict if a user will switch or not."
   ],
   "metadata": {}
  },
  {
   "cell_type": "code",
   "execution_count": 44,
   "source": [
    "# define the function that will output our metrics\r\n",
    "def print_all_metrics(y_true, y_pred, y_proba, title = 'Classification metrics'):\r\n",
    "    print(title)\r\n",
    "    print('\\tAccuracy: {:.2f}'.format(accuracy_score(y_true, y_pred)))\r\n",
    "    print('\\tPrecision: {:.2f}'.format(precision_score(y_true, y_pred)))\r\n",
    "    print('\\tRecall: {:.2f}'.format(recall_score(y_true, y_pred)))\r\n",
    "    print('\\tF1: {:.2f}'.format(f1_score(y_true, y_pred)))\r\n",
    "    print('\\tROC_AUC: {:.2f}'.format(roc_auc_score(y_true, y_proba)))\r\n",
    "\r\n",
    "    #print(y_true, y_proba)\r\n",
    "\r\n",
    "# define the function that takes each model and data as input and outputs metrics\r\n",
    "def make_prediction(m, X_train, y_train, X_test, y_test):\r\n",
    "    model = m\r\n",
    "    model.fit(X_train, y_train)\r\n",
    "    y_pred = model.predict(X_test)\r\n",
    "    y_probabilities = model.predict_proba(X_test)[:,1]\r\n",
    "    print_all_metrics(y_test, y_pred, y_probabilities)\r\n",
    "    \r\n",
    "    # Plot the ROC curve of the probabilities of switch\r\n",
    "    fallout, sensitivity, thresholds = roc_curve(np.ravel(y_test), y_probabilities)\r\n",
    "    plt.plot(fallout, sensitivity, color = 'darkorange')\r\n",
    "    plt.plot([0, 1], [0, 1], linestyle='--')\r\n",
    "    plt.show()"
   ],
   "outputs": [],
   "metadata": {}
  },
  {
   "cell_type": "code",
   "execution_count": 45,
   "source": [
    "total_call_duration_by_user_id = data.groupby('user_id')['total_call_duration'].nunique()\r\n",
    "internal_by_user_id = data.groupby('user_id')['internal'].count()\r\n",
    "direction_by_user_id = data.loc[data['direction'] == 'out'].groupby('user_id').count()"
   ],
   "outputs": [],
   "metadata": {}
  },
  {
   "cell_type": "code",
   "execution_count": 46,
   "source": [
    "y = pd.concat([tariff_A_customers_all_df['switch'], tariff_B_customers_all_df['switch'], tariff_C_customers_all_df['switch']], axis=0)\r\n",
    "\r\n",
    "\r\n",
    "x = [total_call_duration_by_user_id[y.index], direction_by_user_id['direction'][y.index], internal_by_user_id[y.index]]\r\n",
    "headers_x = [\"total_call_duration\", \"n_outcals\", \"n_internals\"]\r\n",
    "X = pd.concat(x, axis=1, keys=headers_x)\r\n"
   ],
   "outputs": [],
   "metadata": {}
  },
  {
   "cell_type": "code",
   "execution_count": 47,
   "source": [
    "# divide the data into train and test sets\r\n",
    "X_train, X_test, y_train, y_test = train_test_split(X, y, test_size = 0.2, random_state = 0, stratify=y) "
   ],
   "outputs": [],
   "metadata": {}
  },
  {
   "cell_type": "code",
   "execution_count": 48,
   "source": [
    "# create a StandardScaler object and apply it to the train set\r\n",
    "scaler = StandardScaler() \r\n",
    "X_train_st = scaler.fit_transform(X_train) # train the scaler and transform the matrix for the train set\r\n",
    "\r\n",
    "# apply standardization to the feature matrix for the test set\r\n",
    "X_test_st = scaler.transform(X_test)\r\n",
    "\r\n",
    "# declare the list of models\r\n",
    "models = [LogisticRegression(random_state=0), RandomForestClassifier(n_estimators = 100, random_state = 0), GradientBoostingClassifier(n_estimators = 100, random_state = 0)]\r\n",
    "\r\n",
    "# write a loop that outputs metrics for each model\r\n",
    "for i in models:\r\n",
    "    print(i) \r\n",
    "    make_prediction(i, X_train_st, y_train, X_test_st, y_test)"
   ],
   "outputs": [
    {
     "output_type": "stream",
     "name": "stdout",
     "text": [
      "LogisticRegression(C=1.0, class_weight=None, dual=False, fit_intercept=True,\n",
      "                   intercept_scaling=1, l1_ratio=None, max_iter=100,\n",
      "                   multi_class='warn', n_jobs=None, penalty='l2',\n",
      "                   random_state=0, solver='warn', tol=0.0001, verbose=0,\n",
      "                   warm_start=False)\n",
      "Classification metrics\n",
      "\tAccuracy: 0.60\n",
      "\tPrecision: 0.60\n",
      "\tRecall: 1.00\n",
      "\tF1: 0.75\n",
      "\tROC_AUC: 0.65\n"
     ]
    },
    {
     "output_type": "display_data",
     "data": {
      "image/png": "[encoded data removed]",
      "text/plain": [
       "<Figure size 432x288 with 1 Axes>"
      ]
     },
     "metadata": {
      "needs_background": "light"
     }
    },
    {
     "output_type": "stream",
     "name": "stdout",
     "text": [
      "RandomForestClassifier(bootstrap=True, class_weight=None, criterion='gini',\n",
      "                       max_depth=None, max_features='auto', max_leaf_nodes=None,\n",
      "                       min_impurity_decrease=0.0, min_impurity_split=None,\n",
      "                       min_samples_leaf=1, min_samples_split=2,\n",
      "                       min_weight_fraction_leaf=0.0, n_estimators=100,\n",
      "                       n_jobs=None, oob_score=False, random_state=0, verbose=0,\n",
      "                       warm_start=False)\n",
      "Classification metrics\n",
      "\tAccuracy: 0.60\n",
      "\tPrecision: 0.65\n",
      "\tRecall: 0.74\n",
      "\tF1: 0.69\n",
      "\tROC_AUC: 0.69\n"
     ]
    },
    {
     "output_type": "display_data",
     "data": {
      "image/png": "[encoded data removed]",
      "text/plain": [
       "<Figure size 432x288 with 1 Axes>"
      ]
     },
     "metadata": {
      "needs_background": "light"
     }
    },
    {
     "output_type": "stream",
     "name": "stdout",
     "text": [
      "GradientBoostingClassifier(criterion='friedman_mse', init=None,\n",
      "                           learning_rate=0.1, loss='deviance', max_depth=3,\n",
      "                           max_features=None, max_leaf_nodes=None,\n",
      "                           min_impurity_decrease=0.0, min_impurity_split=None,\n",
      "                           min_samples_leaf=1, min_samples_split=2,\n",
      "                           min_weight_fraction_leaf=0.0, n_estimators=100,\n",
      "                           n_iter_no_change=None, presort='auto',\n",
      "                           random_state=0, subsample=1.0, tol=0.0001,\n",
      "                           validation_fraction=0.1, verbose=0,\n",
      "                           warm_start=False)\n",
      "Classification metrics\n",
      "\tAccuracy: 0.64\n",
      "\tPrecision: 0.68\n",
      "\tRecall: 0.78\n",
      "\tF1: 0.72\n",
      "\tROC_AUC: 0.74\n"
     ]
    },
    {
     "output_type": "display_data",
     "data": {
      "image/png": "[encoded data removed]",
      "text/plain": [
       "<Figure size 432x288 with 1 Axes>"
      ]
     },
     "metadata": {
      "needs_background": "light"
     }
    }
   ],
   "metadata": {}
  },
  {
   "cell_type": "markdown",
   "source": [
    "## Conclusion <a name=\"subparagraph11\"></a>\r\n",
    "\r\n",
    "We are using three different modelling techniques and our results are quite similar.\r\n",
    "\r\n",
    "    Best Accuracy: GradientBoostingClassifier\r\n",
    "\r\n",
    "    Best Precision: GradientBoostingClassifier\r\n",
    "\r\n",
    "    Best Recall: LogisticRegression\r\n",
    "\r\n",
    "    Best F1: LogisticRegression\r\n",
    "\r\n",
    "    Best ROC_AUC: GradientBoostingClassifier\r\n",
    "\r\n",
    "As accuracy only works when classes are balanced, we will not take it under consideration unless we stratify our samples. After that we can include accuracy and it points to the GradientBoostingClassifier model. As precision and recall are aimed at avoiding opposing risks, we need a harmonizing metric (F1 score) that takes into account the balance between the metrics. F1 points into a LogisticRegression model. AUC points to GradientBoostingClassifier. Notice that what the ROC chart shows us is the tradeoff between all values of our false positive rate (fallout) and true positive rate (sensitivity). If we had more variables (to act as independent variables) we could use these measures to compare between different models. Even as it is our model gives good classification results (better than random - the blue line).\r\n",
    " \r\n",
    "# Overall conclusion <a name=\"paragraph5\"></a>\r\n",
    "\r\n",
    "_Final Findings_\r\n",
    "\r\n",
    "1. There is an upward trend in the number of daily users. It peak at 175 users per day and it seems to be stabilizing.\r\n",
    "2. Most calls are below 2 hours.\r\n",
    "3. Our revenue comes from outcoming calls (especially externals).\r\n",
    "4. For a customer, if switching to other plans is profitable, he is likely to see it too and change the company that he uses (us). We should be preemptive and know beforehand if those customers are not satisfied with their plans.\r\n",
    "5. 9 customers overpay their plans and 37 need bigger ones.\r\n",
    "6. Average revenue from users of A, B and C calling plans differs.\r\n",
    "7. 33.33% of Plan A customers, 72.41% of Plan B and 57.41% of Plan C customers are likely to change plans.\r\n",
    "8. A GradientBoostingClassifier model can predict better, than a simply random choice, if a customer falls in the `switch` category and he is dissatisfied and likely to leave.\r\n",
    "\r\n",
    "_Recommendations_\r\n",
    "\r\n",
    "1. Focus on external outcoming calls (prioritize them into the telecommunication network, give them better signal, etc.), as these generate the most income.\r\n",
    "2. Carefully, optimize customers' plans (It is a better option than to lose them). Offering them more suitable plans, we keep them satisfied and maybe they can increase their usage of our network (mitigating the loss of revenue)."
   ],
   "metadata": {}
  }
 ],
 "metadata": {
  "ExecuteTimeLog": [
   {
    "duration": 1336,
    "start_time": "2021-07-09T12:11:45.396Z"
   },
   {
    "duration": -615,
    "start_time": "2021-07-09T12:11:47.353Z"
   },
   {
    "duration": -618,
    "start_time": "2021-07-09T12:11:47.358Z"
   },
   {
    "duration": -675,
    "start_time": "2021-07-09T12:11:47.417Z"
   },
   {
    "duration": -677,
    "start_time": "2021-07-09T12:11:47.421Z"
   },
   {
    "duration": -686,
    "start_time": "2021-07-09T12:11:47.432Z"
   },
   {
    "duration": -688,
    "start_time": "2021-07-09T12:11:47.436Z"
   },
   {
    "duration": -690,
    "start_time": "2021-07-09T12:11:47.440Z"
   },
   {
    "duration": -692,
    "start_time": "2021-07-09T12:11:47.444Z"
   },
   {
    "duration": -694,
    "start_time": "2021-07-09T12:11:47.448Z"
   },
   {
    "duration": -696,
    "start_time": "2021-07-09T12:11:47.452Z"
   },
   {
    "duration": -698,
    "start_time": "2021-07-09T12:11:47.456Z"
   },
   {
    "duration": -701,
    "start_time": "2021-07-09T12:11:47.461Z"
   },
   {
    "duration": -704,
    "start_time": "2021-07-09T12:11:47.465Z"
   },
   {
    "duration": -706,
    "start_time": "2021-07-09T12:11:47.470Z"
   },
   {
    "duration": -709,
    "start_time": "2021-07-09T12:11:47.474Z"
   },
   {
    "duration": -711,
    "start_time": "2021-07-09T12:11:47.479Z"
   },
   {
    "duration": -714,
    "start_time": "2021-07-09T12:11:47.483Z"
   },
   {
    "duration": -716,
    "start_time": "2021-07-09T12:11:47.487Z"
   },
   {
    "duration": -719,
    "start_time": "2021-07-09T12:11:47.492Z"
   },
   {
    "duration": -732,
    "start_time": "2021-07-09T12:11:47.506Z"
   },
   {
    "duration": -735,
    "start_time": "2021-07-09T12:11:47.510Z"
   },
   {
    "duration": -738,
    "start_time": "2021-07-09T12:11:47.514Z"
   },
   {
    "duration": -740,
    "start_time": "2021-07-09T12:11:47.518Z"
   },
   {
    "duration": -802,
    "start_time": "2021-07-09T12:11:47.581Z"
   },
   {
    "duration": -828,
    "start_time": "2021-07-09T12:11:47.609Z"
   },
   {
    "duration": -831,
    "start_time": "2021-07-09T12:11:47.613Z"
   },
   {
    "duration": -835,
    "start_time": "2021-07-09T12:11:47.618Z"
   },
   {
    "duration": -837,
    "start_time": "2021-07-09T12:11:47.622Z"
   },
   {
    "duration": -838,
    "start_time": "2021-07-09T12:11:47.625Z"
   },
   {
    "duration": -842,
    "start_time": "2021-07-09T12:11:47.630Z"
   },
   {
    "duration": -844,
    "start_time": "2021-07-09T12:11:47.634Z"
   },
   {
    "duration": -846,
    "start_time": "2021-07-09T12:11:47.638Z"
   },
   {
    "duration": -848,
    "start_time": "2021-07-09T12:11:47.642Z"
   },
   {
    "duration": -850,
    "start_time": "2021-07-09T12:11:47.645Z"
   },
   {
    "duration": -852,
    "start_time": "2021-07-09T12:11:47.649Z"
   },
   {
    "duration": -855,
    "start_time": "2021-07-09T12:11:47.654Z"
   },
   {
    "duration": -858,
    "start_time": "2021-07-09T12:11:47.658Z"
   },
   {
    "duration": -860,
    "start_time": "2021-07-09T12:11:47.661Z"
   },
   {
    "duration": -863,
    "start_time": "2021-07-09T12:11:47.665Z"
   },
   {
    "duration": -865,
    "start_time": "2021-07-09T12:11:47.669Z"
   },
   {
    "duration": -867,
    "start_time": "2021-07-09T12:11:47.672Z"
   },
   {
    "duration": -892,
    "start_time": "2021-07-09T12:11:47.698Z"
   },
   {
    "duration": -859,
    "start_time": "2021-07-09T12:11:47.726Z"
   },
   {
    "duration": -862,
    "start_time": "2021-07-09T12:11:47.730Z"
   },
   {
    "duration": 6296,
    "start_time": "2021-07-09T12:12:16.854Z"
   },
   {
    "duration": 260,
    "start_time": "2021-07-09T12:12:23.152Z"
   },
   {
    "duration": 23,
    "start_time": "2021-07-09T12:12:23.415Z"
   },
   {
    "duration": 18,
    "start_time": "2021-07-09T12:12:23.440Z"
   },
   {
    "duration": 24,
    "start_time": "2021-07-09T12:12:23.460Z"
   },
   {
    "duration": 523,
    "start_time": "2021-07-09T12:12:23.487Z"
   },
   {
    "duration": -627,
    "start_time": "2021-07-09T12:12:24.641Z"
   },
   {
    "duration": -634,
    "start_time": "2021-07-09T12:12:24.649Z"
   },
   {
    "duration": -636,
    "start_time": "2021-07-09T12:12:24.653Z"
   },
   {
    "duration": -639,
    "start_time": "2021-07-09T12:12:24.657Z"
   },
   {
    "duration": -670,
    "start_time": "2021-07-09T12:12:24.689Z"
   },
   {
    "duration": -677,
    "start_time": "2021-07-09T12:12:24.697Z"
   },
   {
    "duration": -680,
    "start_time": "2021-07-09T12:12:24.701Z"
   },
   {
    "duration": -683,
    "start_time": "2021-07-09T12:12:24.706Z"
   },
   {
    "duration": -686,
    "start_time": "2021-07-09T12:12:24.710Z"
   },
   {
    "duration": -698,
    "start_time": "2021-07-09T12:12:24.723Z"
   },
   {
    "duration": -701,
    "start_time": "2021-07-09T12:12:24.727Z"
   },
   {
    "duration": -704,
    "start_time": "2021-07-09T12:12:24.732Z"
   },
   {
    "duration": -706,
    "start_time": "2021-07-09T12:12:24.735Z"
   },
   {
    "duration": -710,
    "start_time": "2021-07-09T12:12:24.740Z"
   },
   {
    "duration": -713,
    "start_time": "2021-07-09T12:12:24.744Z"
   },
   {
    "duration": -716,
    "start_time": "2021-07-09T12:12:24.748Z"
   },
   {
    "duration": -719,
    "start_time": "2021-07-09T12:12:24.752Z"
   },
   {
    "duration": -721,
    "start_time": "2021-07-09T12:12:24.756Z"
   },
   {
    "duration": -724,
    "start_time": "2021-07-09T12:12:24.760Z"
   },
   {
    "duration": -727,
    "start_time": "2021-07-09T12:12:24.764Z"
   },
   {
    "duration": -730,
    "start_time": "2021-07-09T12:12:24.768Z"
   },
   {
    "duration": -733,
    "start_time": "2021-07-09T12:12:24.772Z"
   },
   {
    "duration": -734,
    "start_time": "2021-07-09T12:12:24.775Z"
   },
   {
    "duration": -737,
    "start_time": "2021-07-09T12:12:24.779Z"
   },
   {
    "duration": -739,
    "start_time": "2021-07-09T12:12:24.782Z"
   },
   {
    "duration": -741,
    "start_time": "2021-07-09T12:12:24.786Z"
   },
   {
    "duration": -744,
    "start_time": "2021-07-09T12:12:24.790Z"
   },
   {
    "duration": -747,
    "start_time": "2021-07-09T12:12:24.795Z"
   },
   {
    "duration": -750,
    "start_time": "2021-07-09T12:12:24.799Z"
   },
   {
    "duration": -753,
    "start_time": "2021-07-09T12:12:24.804Z"
   },
   {
    "duration": -755,
    "start_time": "2021-07-09T12:12:24.807Z"
   },
   {
    "duration": -802,
    "start_time": "2021-07-09T12:12:24.856Z"
   },
   {
    "duration": -792,
    "start_time": "2021-07-09T12:12:24.859Z"
   },
   {
    "duration": -796,
    "start_time": "2021-07-09T12:12:24.864Z"
   },
   {
    "duration": -802,
    "start_time": "2021-07-09T12:12:24.872Z"
   },
   {
    "duration": -805,
    "start_time": "2021-07-09T12:12:24.876Z"
   },
   {
    "duration": -807,
    "start_time": "2021-07-09T12:12:24.880Z"
   },
   {
    "duration": -809,
    "start_time": "2021-07-09T12:12:24.884Z"
   },
   {
    "duration": -810,
    "start_time": "2021-07-09T12:12:24.887Z"
   },
   {
    "duration": 13,
    "start_time": "2021-07-09T12:13:43.841Z"
   },
   {
    "duration": 15,
    "start_time": "2021-07-09T12:15:40.499Z"
   },
   {
    "duration": 10,
    "start_time": "2021-07-09T12:15:54.293Z"
   },
   {
    "duration": 1513,
    "start_time": "2021-07-09T12:16:40.297Z"
   },
   {
    "duration": 247,
    "start_time": "2021-07-09T12:16:41.813Z"
   },
   {
    "duration": 15,
    "start_time": "2021-07-09T12:16:42.063Z"
   },
   {
    "duration": 11,
    "start_time": "2021-07-09T12:16:42.080Z"
   },
   {
    "duration": 36,
    "start_time": "2021-07-09T12:16:42.094Z"
   },
   {
    "duration": 38,
    "start_time": "2021-07-09T12:16:42.133Z"
   },
   {
    "duration": 626,
    "start_time": "2021-07-09T12:16:53.021Z"
   },
   {
    "duration": 12,
    "start_time": "2021-07-09T12:16:55.574Z"
   },
   {
    "duration": 16,
    "start_time": "2021-07-09T12:16:57.058Z"
   },
   {
    "duration": 44,
    "start_time": "2021-07-09T12:17:02.259Z"
   },
   {
    "duration": 17,
    "start_time": "2021-07-09T12:17:03.915Z"
   },
   {
    "duration": 1606,
    "start_time": "2021-07-09T12:17:25.598Z"
   },
   {
    "duration": 336,
    "start_time": "2021-07-09T12:17:27.207Z"
   },
   {
    "duration": 20,
    "start_time": "2021-07-09T12:17:27.547Z"
   },
   {
    "duration": 22,
    "start_time": "2021-07-09T12:17:27.570Z"
   },
   {
    "duration": 38,
    "start_time": "2021-07-09T12:17:27.595Z"
   },
   {
    "duration": 62,
    "start_time": "2021-07-09T12:17:27.636Z"
   },
   {
    "duration": 21,
    "start_time": "2021-07-09T12:17:27.701Z"
   },
   {
    "duration": 41,
    "start_time": "2021-07-09T12:17:27.726Z"
   },
   {
    "duration": 10,
    "start_time": "2021-07-09T12:17:27.770Z"
   },
   {
    "duration": 17,
    "start_time": "2021-07-09T12:17:27.782Z"
   },
   {
    "duration": 166,
    "start_time": "2021-07-09T12:17:27.802Z"
   },
   {
    "duration": 1458,
    "start_time": "2021-07-09T12:17:27.970Z"
   },
   {
    "duration": 1122,
    "start_time": "2021-07-09T12:17:29.431Z"
   },
   {
    "duration": 32,
    "start_time": "2021-07-09T12:17:30.555Z"
   },
   {
    "duration": 35,
    "start_time": "2021-07-09T12:17:30.591Z"
   },
   {
    "duration": 44,
    "start_time": "2021-07-09T12:17:30.629Z"
   },
   {
    "duration": 282,
    "start_time": "2021-07-09T12:17:30.675Z"
   },
   {
    "duration": 38,
    "start_time": "2021-07-09T12:17:30.959Z"
   },
   {
    "duration": 1408,
    "start_time": "2021-07-09T12:17:31.000Z"
   },
   {
    "duration": -797,
    "start_time": "2021-07-09T12:17:33.208Z"
   },
   {
    "duration": -799,
    "start_time": "2021-07-09T12:17:33.212Z"
   },
   {
    "duration": -801,
    "start_time": "2021-07-09T12:17:33.215Z"
   },
   {
    "duration": -805,
    "start_time": "2021-07-09T12:17:33.220Z"
   },
   {
    "duration": -806,
    "start_time": "2021-07-09T12:17:33.223Z"
   },
   {
    "duration": -810,
    "start_time": "2021-07-09T12:17:33.228Z"
   },
   {
    "duration": -812,
    "start_time": "2021-07-09T12:17:33.232Z"
   },
   {
    "duration": -815,
    "start_time": "2021-07-09T12:17:33.236Z"
   },
   {
    "duration": -816,
    "start_time": "2021-07-09T12:17:33.239Z"
   },
   {
    "duration": -820,
    "start_time": "2021-07-09T12:17:33.244Z"
   },
   {
    "duration": -821,
    "start_time": "2021-07-09T12:17:33.247Z"
   },
   {
    "duration": -824,
    "start_time": "2021-07-09T12:17:33.251Z"
   },
   {
    "duration": -826,
    "start_time": "2021-07-09T12:17:33.255Z"
   },
   {
    "duration": -830,
    "start_time": "2021-07-09T12:17:33.260Z"
   },
   {
    "duration": -798,
    "start_time": "2021-07-09T12:17:33.265Z"
   },
   {
    "duration": -802,
    "start_time": "2021-07-09T12:17:33.270Z"
   },
   {
    "duration": -804,
    "start_time": "2021-07-09T12:17:33.273Z"
   },
   {
    "duration": -807,
    "start_time": "2021-07-09T12:17:33.278Z"
   },
   {
    "duration": -809,
    "start_time": "2021-07-09T12:17:33.281Z"
   },
   {
    "duration": -822,
    "start_time": "2021-07-09T12:17:33.296Z"
   },
   {
    "duration": -824,
    "start_time": "2021-07-09T12:17:33.299Z"
   },
   {
    "duration": -827,
    "start_time": "2021-07-09T12:17:33.303Z"
   },
   {
    "duration": -830,
    "start_time": "2021-07-09T12:17:33.307Z"
   },
   {
    "duration": -833,
    "start_time": "2021-07-09T12:17:33.312Z"
   },
   {
    "duration": -835,
    "start_time": "2021-07-09T12:17:33.315Z"
   },
   {
    "duration": -838,
    "start_time": "2021-07-09T12:17:33.319Z"
   },
   {
    "duration": -843,
    "start_time": "2021-07-09T12:17:33.326Z"
   },
   {
    "duration": -727,
    "start_time": "2021-07-09T12:17:33.330Z"
   },
   {
    "duration": 1583,
    "start_time": "2021-07-09T12:17:47.136Z"
   },
   {
    "duration": 305,
    "start_time": "2021-07-09T12:17:48.723Z"
   },
   {
    "duration": 17,
    "start_time": "2021-07-09T12:17:49.031Z"
   },
   {
    "duration": 29,
    "start_time": "2021-07-09T12:17:49.052Z"
   },
   {
    "duration": 17,
    "start_time": "2021-07-09T12:17:49.083Z"
   },
   {
    "duration": 72,
    "start_time": "2021-07-09T12:17:49.103Z"
   },
   {
    "duration": 38,
    "start_time": "2021-07-09T12:17:49.177Z"
   },
   {
    "duration": 63,
    "start_time": "2021-07-09T12:17:49.220Z"
   },
   {
    "duration": 13,
    "start_time": "2021-07-09T12:17:49.287Z"
   },
   {
    "duration": 10,
    "start_time": "2021-07-09T12:17:49.303Z"
   },
   {
    "duration": 239,
    "start_time": "2021-07-09T12:17:49.316Z"
   },
   {
    "duration": 1881,
    "start_time": "2021-07-09T12:17:49.557Z"
   },
   {
    "duration": 1373,
    "start_time": "2021-07-09T12:17:51.441Z"
   },
   {
    "duration": 30,
    "start_time": "2021-07-09T12:17:52.817Z"
   },
   {
    "duration": 43,
    "start_time": "2021-07-09T12:17:52.850Z"
   },
   {
    "duration": 28,
    "start_time": "2021-07-09T12:17:52.896Z"
   },
   {
    "duration": 495,
    "start_time": "2021-07-09T12:17:52.927Z"
   },
   {
    "duration": 64,
    "start_time": "2021-07-09T12:17:53.425Z"
   },
   {
    "duration": 1567,
    "start_time": "2021-07-09T12:17:53.491Z"
   },
   {
    "duration": -805,
    "start_time": "2021-07-09T12:17:55.873Z"
   },
   {
    "duration": -810,
    "start_time": "2021-07-09T12:17:55.880Z"
   },
   {
    "duration": -812,
    "start_time": "2021-07-09T12:17:55.884Z"
   },
   {
    "duration": -813,
    "start_time": "2021-07-09T12:17:55.887Z"
   },
   {
    "duration": -816,
    "start_time": "2021-07-09T12:17:55.892Z"
   },
   {
    "duration": -817,
    "start_time": "2021-07-09T12:17:55.895Z"
   },
   {
    "duration": -820,
    "start_time": "2021-07-09T12:17:55.900Z"
   },
   {
    "duration": -821,
    "start_time": "2021-07-09T12:17:55.904Z"
   },
   {
    "duration": -822,
    "start_time": "2021-07-09T12:17:55.907Z"
   },
   {
    "duration": -824,
    "start_time": "2021-07-09T12:17:55.911Z"
   },
   {
    "duration": -826,
    "start_time": "2021-07-09T12:17:55.915Z"
   },
   {
    "duration": -827,
    "start_time": "2021-07-09T12:17:55.918Z"
   },
   {
    "duration": -829,
    "start_time": "2021-07-09T12:17:55.922Z"
   },
   {
    "duration": -842,
    "start_time": "2021-07-09T12:17:55.937Z"
   },
   {
    "duration": -845,
    "start_time": "2021-07-09T12:17:55.942Z"
   },
   {
    "duration": -847,
    "start_time": "2021-07-09T12:17:55.946Z"
   },
   {
    "duration": -849,
    "start_time": "2021-07-09T12:17:55.950Z"
   },
   {
    "duration": -850,
    "start_time": "2021-07-09T12:17:55.953Z"
   },
   {
    "duration": -852,
    "start_time": "2021-07-09T12:17:55.957Z"
   },
   {
    "duration": -862,
    "start_time": "2021-07-09T12:17:55.969Z"
   },
   {
    "duration": -805,
    "start_time": "2021-07-09T12:17:55.973Z"
   },
   {
    "duration": -814,
    "start_time": "2021-07-09T12:17:55.984Z"
   },
   {
    "duration": -816,
    "start_time": "2021-07-09T12:17:55.988Z"
   },
   {
    "duration": -818,
    "start_time": "2021-07-09T12:17:55.992Z"
   },
   {
    "duration": -821,
    "start_time": "2021-07-09T12:17:55.997Z"
   },
   {
    "duration": -824,
    "start_time": "2021-07-09T12:17:56.001Z"
   },
   {
    "duration": -831,
    "start_time": "2021-07-09T12:17:56.010Z"
   },
   {
    "duration": -695,
    "start_time": "2021-07-09T12:17:56.014Z"
   },
   {
    "duration": 19,
    "start_time": "2021-07-09T12:23:07.137Z"
   },
   {
    "duration": 14332,
    "start_time": "2021-07-09T12:30:42.060Z"
   },
   {
    "duration": 257,
    "start_time": "2021-07-09T12:30:56.396Z"
   },
   {
    "duration": 23,
    "start_time": "2021-07-09T12:30:56.656Z"
   },
   {
    "duration": 29,
    "start_time": "2021-07-09T12:30:56.682Z"
   },
   {
    "duration": 29,
    "start_time": "2021-07-09T12:30:56.714Z"
   },
   {
    "duration": 71,
    "start_time": "2021-07-09T12:30:56.745Z"
   },
   {
    "duration": 63,
    "start_time": "2021-07-09T12:30:56.818Z"
   },
   {
    "duration": 24,
    "start_time": "2021-07-09T12:30:56.884Z"
   },
   {
    "duration": 16,
    "start_time": "2021-07-09T12:30:56.912Z"
   },
   {
    "duration": 22,
    "start_time": "2021-07-09T12:30:56.930Z"
   },
   {
    "duration": 102,
    "start_time": "2021-07-09T12:30:56.954Z"
   },
   {
    "duration": 1460,
    "start_time": "2021-07-09T12:30:57.067Z"
   },
   {
    "duration": 1123,
    "start_time": "2021-07-09T12:30:58.529Z"
   },
   {
    "duration": 30,
    "start_time": "2021-07-09T12:30:59.655Z"
   },
   {
    "duration": 22,
    "start_time": "2021-07-09T12:30:59.688Z"
   },
   {
    "duration": 28,
    "start_time": "2021-07-09T12:30:59.713Z"
   },
   {
    "duration": 16,
    "start_time": "2021-07-09T12:30:59.768Z"
   },
   {
    "duration": 403,
    "start_time": "2021-07-09T12:30:59.786Z"
   },
   {
    "duration": 38,
    "start_time": "2021-07-09T12:31:00.192Z"
   },
   {
    "duration": 1855,
    "start_time": "2021-07-09T12:31:00.233Z"
   },
   {
    "duration": -852,
    "start_time": "2021-07-09T12:31:02.946Z"
   },
   {
    "duration": -864,
    "start_time": "2021-07-09T12:31:02.960Z"
   },
   {
    "duration": -875,
    "start_time": "2021-07-09T12:31:02.973Z"
   },
   {
    "duration": -879,
    "start_time": "2021-07-09T12:31:02.978Z"
   },
   {
    "duration": -889,
    "start_time": "2021-07-09T12:31:02.990Z"
   },
   {
    "duration": -893,
    "start_time": "2021-07-09T12:31:02.996Z"
   },
   {
    "duration": -903,
    "start_time": "2021-07-09T12:31:03.008Z"
   },
   {
    "duration": -906,
    "start_time": "2021-07-09T12:31:03.013Z"
   },
   {
    "duration": -919,
    "start_time": "2021-07-09T12:31:03.027Z"
   },
   {
    "duration": -928,
    "start_time": "2021-07-09T12:31:03.038Z"
   },
   {
    "duration": -930,
    "start_time": "2021-07-09T12:31:03.042Z"
   },
   {
    "duration": -933,
    "start_time": "2021-07-09T12:31:03.047Z"
   },
   {
    "duration": -945,
    "start_time": "2021-07-09T12:31:03.060Z"
   },
   {
    "duration": -954,
    "start_time": "2021-07-09T12:31:03.071Z"
   },
   {
    "duration": -957,
    "start_time": "2021-07-09T12:31:03.076Z"
   },
   {
    "duration": -961,
    "start_time": "2021-07-09T12:31:03.081Z"
   },
   {
    "duration": -972,
    "start_time": "2021-07-09T12:31:03.094Z"
   },
   {
    "duration": -941,
    "start_time": "2021-07-09T12:31:03.108Z"
   },
   {
    "duration": -945,
    "start_time": "2021-07-09T12:31:03.114Z"
   },
   {
    "duration": -955,
    "start_time": "2021-07-09T12:31:03.126Z"
   },
   {
    "duration": -968,
    "start_time": "2021-07-09T12:31:03.141Z"
   },
   {
    "duration": -972,
    "start_time": "2021-07-09T12:31:03.146Z"
   },
   {
    "duration": -980,
    "start_time": "2021-07-09T12:31:03.156Z"
   },
   {
    "duration": -984,
    "start_time": "2021-07-09T12:31:03.162Z"
   },
   {
    "duration": -995,
    "start_time": "2021-07-09T12:31:03.175Z"
   },
   {
    "duration": -999,
    "start_time": "2021-07-09T12:31:03.181Z"
   },
   {
    "duration": -1008,
    "start_time": "2021-07-09T12:31:03.191Z"
   },
   {
    "duration": -1012,
    "start_time": "2021-07-09T12:31:03.197Z"
   },
   {
    "duration": 904,
    "start_time": "2021-07-09T12:33:18.907Z"
   },
   {
    "duration": 290,
    "start_time": "2021-07-09T12:34:00.060Z"
   },
   {
    "duration": 36,
    "start_time": "2021-07-09T12:34:08.088Z"
   },
   {
    "duration": 1134,
    "start_time": "2021-07-09T12:34:10.125Z"
   },
   {
    "duration": 559,
    "start_time": "2021-07-09T12:34:40.802Z"
   },
   {
    "duration": 335,
    "start_time": "2021-07-09T12:37:01.406Z"
   },
   {
    "duration": 36,
    "start_time": "2021-07-09T12:37:03.916Z"
   },
   {
    "duration": 1167,
    "start_time": "2021-07-09T12:37:04.672Z"
   },
   {
    "duration": 316,
    "start_time": "2021-07-09T12:38:06.699Z"
   },
   {
    "duration": 31,
    "start_time": "2021-07-09T12:38:10.619Z"
   },
   {
    "duration": 1607,
    "start_time": "2021-07-09T12:38:11.220Z"
   },
   {
    "duration": 1964,
    "start_time": "2021-07-09T12:38:56.952Z"
   },
   {
    "duration": 307,
    "start_time": "2021-07-09T12:38:58.919Z"
   },
   {
    "duration": 15,
    "start_time": "2021-07-09T12:38:59.229Z"
   },
   {
    "duration": 32,
    "start_time": "2021-07-09T12:38:59.247Z"
   },
   {
    "duration": 18,
    "start_time": "2021-07-09T12:38:59.282Z"
   },
   {
    "duration": 41,
    "start_time": "2021-07-09T12:38:59.303Z"
   },
   {
    "duration": 49,
    "start_time": "2021-07-09T12:38:59.347Z"
   },
   {
    "duration": 26,
    "start_time": "2021-07-09T12:38:59.400Z"
   },
   {
    "duration": 42,
    "start_time": "2021-07-09T12:38:59.429Z"
   },
   {
    "duration": 8,
    "start_time": "2021-07-09T12:38:59.473Z"
   },
   {
    "duration": 138,
    "start_time": "2021-07-09T12:38:59.484Z"
   },
   {
    "duration": 1445,
    "start_time": "2021-07-09T12:38:59.625Z"
   },
   {
    "duration": 1177,
    "start_time": "2021-07-09T12:39:01.073Z"
   },
   {
    "duration": 30,
    "start_time": "2021-07-09T12:39:02.252Z"
   },
   {
    "duration": 23,
    "start_time": "2021-07-09T12:39:02.285Z"
   },
   {
    "duration": 36,
    "start_time": "2021-07-09T12:39:02.310Z"
   },
   {
    "duration": 17,
    "start_time": "2021-07-09T12:39:02.366Z"
   },
   {
    "duration": 274,
    "start_time": "2021-07-09T12:39:02.385Z"
   },
   {
    "duration": 32,
    "start_time": "2021-07-09T12:39:02.666Z"
   },
   {
    "duration": 2117,
    "start_time": "2021-07-09T12:39:02.700Z"
   },
   {
    "duration": 1632,
    "start_time": "2021-07-09T12:39:04.820Z"
   },
   {
    "duration": 22,
    "start_time": "2021-07-09T12:39:06.454Z"
   },
   {
    "duration": 126,
    "start_time": "2021-07-09T12:39:06.482Z"
   },
   {
    "duration": 21,
    "start_time": "2021-07-09T12:39:06.612Z"
   },
   {
    "duration": 37,
    "start_time": "2021-07-09T12:39:06.635Z"
   },
   {
    "duration": 30,
    "start_time": "2021-07-09T12:39:06.675Z"
   },
   {
    "duration": 60,
    "start_time": "2021-07-09T12:39:06.707Z"
   },
   {
    "duration": 47,
    "start_time": "2021-07-09T12:39:06.770Z"
   },
   {
    "duration": 73,
    "start_time": "2021-07-09T12:39:06.819Z"
   },
   {
    "duration": 11,
    "start_time": "2021-07-09T12:39:06.895Z"
   },
   {
    "duration": 17,
    "start_time": "2021-07-09T12:39:06.908Z"
   },
   {
    "duration": 12,
    "start_time": "2021-07-09T12:39:06.928Z"
   },
   {
    "duration": 36,
    "start_time": "2021-07-09T12:39:06.943Z"
   },
   {
    "duration": 17,
    "start_time": "2021-07-09T12:39:06.982Z"
   },
   {
    "duration": 518,
    "start_time": "2021-07-09T12:39:07.002Z"
   },
   {
    "duration": 20,
    "start_time": "2021-07-09T12:39:07.522Z"
   },
   {
    "duration": 38,
    "start_time": "2021-07-09T12:39:07.545Z"
   },
   {
    "duration": 17,
    "start_time": "2021-07-09T12:39:07.586Z"
   },
   {
    "duration": 13,
    "start_time": "2021-07-09T12:39:07.606Z"
   },
   {
    "duration": 10,
    "start_time": "2021-07-09T12:39:07.621Z"
   },
   {
    "duration": 42,
    "start_time": "2021-07-09T12:39:07.633Z"
   },
   {
    "duration": 13,
    "start_time": "2021-07-09T12:39:07.677Z"
   },
   {
    "duration": 9,
    "start_time": "2021-07-09T12:39:07.693Z"
   },
   {
    "duration": 11,
    "start_time": "2021-07-09T12:39:07.706Z"
   },
   {
    "duration": 84,
    "start_time": "2021-07-09T12:39:07.720Z"
   },
   {
    "duration": 9,
    "start_time": "2021-07-09T12:39:07.807Z"
   },
   {
    "duration": 15,
    "start_time": "2021-07-09T12:39:07.818Z"
   },
   {
    "duration": 1267,
    "start_time": "2021-07-09T12:39:07.835Z"
   }
  ],
  "kernelspec": {
   "display_name": "Python 3",
   "language": "python",
   "name": "python3"
  },
  "language_info": {
   "codemirror_mode": {
    "name": "ipython",
    "version": 3
   },
   "file_extension": ".py",
   "mimetype": "text/x-python",
   "name": "python",
   "nbconvert_exporter": "python",
   "pygments_lexer": "ipython3",
   "version": "3.7.8"
  },
  "toc": {
   "base_numbering": 1,
   "nav_menu": {},
   "number_sections": true,
   "sideBar": true,
   "skip_h1_title": true,
   "title_cell": "Table of Contents",
   "title_sidebar": "Contents",
   "toc_cell": false,
   "toc_position": {},
   "toc_section_display": true,
   "toc_window_display": false
  }
 },
 "nbformat": 4,
 "nbformat_minor": 2
}